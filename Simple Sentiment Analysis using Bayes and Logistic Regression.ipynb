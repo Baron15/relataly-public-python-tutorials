{
 "cells": [
  {
   "cell_type": "code",
   "execution_count": 126,
   "metadata": {},
   "outputs": [],
   "source": [
    "import math \n",
    "import numpy as np \n",
    "import pandas as pd \n",
    "import matplotlib.pyplot as plt \n",
    "import matplotlib\n",
    "\n",
    "from sklearn.pipeline import Pipeline\n",
    "from sklearn.feature_extraction.text import CountVectorizer, TfidfTransformer\n",
    "from sklearn.linear_model import LogisticRegression\n",
    "from sklearn.naive_bayes import MultinomialNB\n",
    "from sklearn.metrics import classification_report, multilabel_confusion_matrix\n",
    "import scikitplot as skplt\n",
    "\n",
    "import seaborn as sns"
   ]
  },
  {
   "cell_type": "markdown",
   "metadata": {},
   "source": [
    "# Loading text data"
   ]
  },
  {
   "cell_type": "code",
   "execution_count": 127,
   "metadata": {
    "scrolled": true
   },
   "outputs": [
    {
     "name": "stdout",
     "output_type": "stream",
     "text": [
      "(27481, 4) (3534, 3)\n"
     ]
    }
   ],
   "source": [
    "# Load train data\n",
    "train_path = \"C:/Users/Flo7u/python-tutorials/relataly-public-python-tutorials/data/sentiment-analysis/train.csv\"\n",
    "train_df = pd.read_csv(train_path) \n",
    "# Load data for the submission\n",
    "sub_test_path = \"C:/Users/Flo7u/python-tutorials/relataly-public-python-tutorials/data/sentiment-analysis/test.csv\"\n",
    "test_df = pd.read_csv(sub_test_path) \n",
    "\n",
    "print(train_df.shape, test_df.shape)\n",
    "# the train data comprises 27481 text phrases that are labeled either \"neutral\", \"negative\" or \"positive\""
   ]
  },
  {
   "cell_type": "code",
   "execution_count": 192,
   "metadata": {},
   "outputs": [
    {
     "data": {
      "text/html": [
       "<div>\n",
       "<style scoped>\n",
       "    .dataframe tbody tr th:only-of-type {\n",
       "        vertical-align: middle;\n",
       "    }\n",
       "\n",
       "    .dataframe tbody tr th {\n",
       "        vertical-align: top;\n",
       "    }\n",
       "\n",
       "    .dataframe thead th {\n",
       "        text-align: right;\n",
       "    }\n",
       "</style>\n",
       "<table border=\"1\" class=\"dataframe\">\n",
       "  <thead>\n",
       "    <tr style=\"text-align: right;\">\n",
       "      <th></th>\n",
       "      <th>textID</th>\n",
       "      <th>text</th>\n",
       "      <th>selected_text</th>\n",
       "      <th>sentiment</th>\n",
       "    </tr>\n",
       "  </thead>\n",
       "  <tbody>\n",
       "    <tr>\n",
       "      <td>0</td>\n",
       "      <td>cb774db0d1</td>\n",
       "      <td>I`d have responded, if I were going</td>\n",
       "      <td>I`d have responded, if I were going</td>\n",
       "      <td>neutral</td>\n",
       "    </tr>\n",
       "    <tr>\n",
       "      <td>1</td>\n",
       "      <td>549e992a42</td>\n",
       "      <td>Sooo SAD I will miss you here in San Diego!!!</td>\n",
       "      <td>Sooo SAD</td>\n",
       "      <td>negative</td>\n",
       "    </tr>\n",
       "    <tr>\n",
       "      <td>2</td>\n",
       "      <td>088c60f138</td>\n",
       "      <td>my boss is bullying me...</td>\n",
       "      <td>bullying me</td>\n",
       "      <td>negative</td>\n",
       "    </tr>\n",
       "    <tr>\n",
       "      <td>3</td>\n",
       "      <td>9642c003ef</td>\n",
       "      <td>what interview! leave me alone</td>\n",
       "      <td>leave me alone</td>\n",
       "      <td>negative</td>\n",
       "    </tr>\n",
       "    <tr>\n",
       "      <td>4</td>\n",
       "      <td>358bd9e861</td>\n",
       "      <td>Sons of ****, why couldn`t they put them on t...</td>\n",
       "      <td>Sons of ****,</td>\n",
       "      <td>negative</td>\n",
       "    </tr>\n",
       "  </tbody>\n",
       "</table>\n",
       "</div>"
      ],
      "text/plain": [
       "       textID                                               text  \\\n",
       "0  cb774db0d1                I`d have responded, if I were going   \n",
       "1  549e992a42      Sooo SAD I will miss you here in San Diego!!!   \n",
       "2  088c60f138                          my boss is bullying me...   \n",
       "3  9642c003ef                     what interview! leave me alone   \n",
       "4  358bd9e861   Sons of ****, why couldn`t they put them on t...   \n",
       "\n",
       "                         selected_text sentiment  \n",
       "0  I`d have responded, if I were going   neutral  \n",
       "1                             Sooo SAD  negative  \n",
       "2                          bullying me  negative  \n",
       "3                       leave me alone  negative  \n",
       "4                        Sons of ****,  negative  "
      ]
     },
     "execution_count": 192,
     "metadata": {},
     "output_type": "execute_result"
    }
   ],
   "source": [
    "train_df.head(5)"
   ]
  },
  {
   "cell_type": "code",
   "execution_count": 130,
   "metadata": {},
   "outputs": [
    {
     "data": {
      "text/html": [
       "<div>\n",
       "<style scoped>\n",
       "    .dataframe tbody tr th:only-of-type {\n",
       "        vertical-align: middle;\n",
       "    }\n",
       "\n",
       "    .dataframe tbody tr th {\n",
       "        vertical-align: top;\n",
       "    }\n",
       "\n",
       "    .dataframe thead th {\n",
       "        text-align: right;\n",
       "    }\n",
       "</style>\n",
       "<table border=\"1\" class=\"dataframe\">\n",
       "  <thead>\n",
       "    <tr style=\"text-align: right;\">\n",
       "      <th></th>\n",
       "      <th>textID</th>\n",
       "      <th>text</th>\n",
       "      <th>selected_text</th>\n",
       "      <th>sentiment</th>\n",
       "    </tr>\n",
       "  </thead>\n",
       "  <tbody>\n",
       "    <tr>\n",
       "      <td>0</td>\n",
       "      <td>cb774db0d1</td>\n",
       "      <td>I`d have responded, if I were going</td>\n",
       "      <td>I`d have responded, if I were going</td>\n",
       "      <td>2</td>\n",
       "    </tr>\n",
       "    <tr>\n",
       "      <td>1</td>\n",
       "      <td>549e992a42</td>\n",
       "      <td>Sooo SAD I will miss you here in San Diego!!!</td>\n",
       "      <td>Sooo SAD</td>\n",
       "      <td>1</td>\n",
       "    </tr>\n",
       "    <tr>\n",
       "      <td>2</td>\n",
       "      <td>088c60f138</td>\n",
       "      <td>my boss is bullying me...</td>\n",
       "      <td>bullying me</td>\n",
       "      <td>1</td>\n",
       "    </tr>\n",
       "    <tr>\n",
       "      <td>3</td>\n",
       "      <td>9642c003ef</td>\n",
       "      <td>what interview! leave me alone</td>\n",
       "      <td>leave me alone</td>\n",
       "      <td>1</td>\n",
       "    </tr>\n",
       "    <tr>\n",
       "      <td>4</td>\n",
       "      <td>358bd9e861</td>\n",
       "      <td>Sons of ****, why couldn`t they put them on t...</td>\n",
       "      <td>Sons of ****,</td>\n",
       "      <td>1</td>\n",
       "    </tr>\n",
       "  </tbody>\n",
       "</table>\n",
       "</div>"
      ],
      "text/plain": [
       "       textID                                               text  \\\n",
       "0  cb774db0d1                I`d have responded, if I were going   \n",
       "1  549e992a42      Sooo SAD I will miss you here in San Diego!!!   \n",
       "2  088c60f138                          my boss is bullying me...   \n",
       "3  9642c003ef                     what interview! leave me alone   \n",
       "4  358bd9e861   Sons of ****, why couldn`t they put them on t...   \n",
       "\n",
       "                         selected_text  sentiment  \n",
       "0  I`d have responded, if I were going          2  \n",
       "1                             Sooo SAD          1  \n",
       "2                          bullying me          1  \n",
       "3                       leave me alone          1  \n",
       "4                        Sons of ****,          1  "
      ]
     },
     "execution_count": 130,
     "metadata": {},
     "output_type": "execute_result"
    }
   ],
   "source": [
    "train_dfa = train_df.copy()\n",
    "cleanup_nums = {\"sentiment\":     {\"negative\": 1, \"neutral\": 2, \"positive\": 3}}\n",
    "train_dfa.replace(cleanup_nums, inplace=True)\n",
    "train_dfa.head()"
   ]
  },
  {
   "cell_type": "markdown",
   "metadata": {},
   "source": [
    "# Exploring the data"
   ]
  },
  {
   "cell_type": "code",
   "execution_count": 131,
   "metadata": {},
   "outputs": [
    {
     "data": {
      "text/plain": [
       "Text(0, 0.5, 'Labels')"
      ]
     },
     "execution_count": 131,
     "metadata": {},
     "output_type": "execute_result"
    },
    {
     "data": {
      "image/png": "[encoded data removed]",
      "text/plain": [
       "<Figure size 432x288 with 1 Axes>"
      ]
     },
     "metadata": {
      "needs_background": "light"
     },
     "output_type": "display_data"
    }
   ],
   "source": [
    "ax = train_dfa['sentiment'].value_counts(sort=False).plot(kind='barh', color='#EE4747')\n",
    "ax.set_xlabel('Count')\n",
    "ax.set_ylabel('Labels')"
   ]
  },
  {
   "cell_type": "code",
   "execution_count": 132,
   "metadata": {},
   "outputs": [
    {
     "data": {
      "text/html": [
       "<div>\n",
       "<style scoped>\n",
       "    .dataframe tbody tr th:only-of-type {\n",
       "        vertical-align: middle;\n",
       "    }\n",
       "\n",
       "    .dataframe tbody tr th {\n",
       "        vertical-align: top;\n",
       "    }\n",
       "\n",
       "    .dataframe thead th {\n",
       "        text-align: right;\n",
       "    }\n",
       "</style>\n",
       "<table border=\"1\" class=\"dataframe\">\n",
       "  <thead>\n",
       "    <tr style=\"text-align: right;\">\n",
       "      <th></th>\n",
       "      <th>textID</th>\n",
       "      <th>text</th>\n",
       "      <th>selected_text</th>\n",
       "      <th>sentiment</th>\n",
       "      <th>len</th>\n",
       "    </tr>\n",
       "  </thead>\n",
       "  <tbody>\n",
       "    <tr>\n",
       "      <td>14339</td>\n",
       "      <td>5c6abc28a1</td>\n",
       "      <td>ow</td>\n",
       "      <td>ow</td>\n",
       "      <td>2</td>\n",
       "      <td>3.0</td>\n",
       "    </tr>\n",
       "    <tr>\n",
       "      <td>26005</td>\n",
       "      <td>0b3fe0ca78</td>\n",
       "      <td>?</td>\n",
       "      <td>?</td>\n",
       "      <td>2</td>\n",
       "      <td>3.0</td>\n",
       "    </tr>\n",
       "    <tr>\n",
       "      <td>11524</td>\n",
       "      <td>4105b6a05d</td>\n",
       "      <td>aw</td>\n",
       "      <td>aw</td>\n",
       "      <td>2</td>\n",
       "      <td>3.0</td>\n",
       "    </tr>\n",
       "    <tr>\n",
       "      <td>641</td>\n",
       "      <td>5210cc55ae</td>\n",
       "      <td>no</td>\n",
       "      <td>no</td>\n",
       "      <td>2</td>\n",
       "      <td>3.0</td>\n",
       "    </tr>\n",
       "    <tr>\n",
       "      <td>25699</td>\n",
       "      <td>ee8ee67cb3</td>\n",
       "      <td>ME</td>\n",
       "      <td>ME</td>\n",
       "      <td>2</td>\n",
       "      <td>3.0</td>\n",
       "    </tr>\n",
       "    <tr>\n",
       "      <td>19964</td>\n",
       "      <td>4f91f17179</td>\n",
       "      <td>boo</td>\n",
       "      <td>boo</td>\n",
       "      <td>2</td>\n",
       "      <td>4.0</td>\n",
       "    </tr>\n",
       "    <tr>\n",
       "      <td>735</td>\n",
       "      <td>a1bda541fd</td>\n",
       "      <td>yep</td>\n",
       "      <td>yep</td>\n",
       "      <td>2</td>\n",
       "      <td>4.0</td>\n",
       "    </tr>\n",
       "    <tr>\n",
       "      <td>11456</td>\n",
       "      <td>3c8698c64b</td>\n",
       "      <td>yup</td>\n",
       "      <td>yup</td>\n",
       "      <td>2</td>\n",
       "      <td>4.0</td>\n",
       "    </tr>\n",
       "    <tr>\n",
       "      <td>13983</td>\n",
       "      <td>a16a8f3fd4</td>\n",
       "      <td>gut</td>\n",
       "      <td>gut</td>\n",
       "      <td>2</td>\n",
       "      <td>4.0</td>\n",
       "    </tr>\n",
       "    <tr>\n",
       "      <td>1668</td>\n",
       "      <td>a2f9a26b7d</td>\n",
       "      <td>aww</td>\n",
       "      <td>aww</td>\n",
       "      <td>2</td>\n",
       "      <td>4.0</td>\n",
       "    </tr>\n",
       "  </tbody>\n",
       "</table>\n",
       "</div>"
      ],
      "text/plain": [
       "           textID  text selected_text  sentiment  len\n",
       "14339  5c6abc28a1    ow            ow          2  3.0\n",
       "26005  0b3fe0ca78     ?             ?          2  3.0\n",
       "11524  4105b6a05d    aw            aw          2  3.0\n",
       "641    5210cc55ae    no            no          2  3.0\n",
       "25699  ee8ee67cb3    ME            ME          2  3.0\n",
       "19964  4f91f17179   boo           boo          2  4.0\n",
       "735    a1bda541fd   yep           yep          2  4.0\n",
       "11456  3c8698c64b   yup           yup          2  4.0\n",
       "13983  a16a8f3fd4   gut           gut          2  4.0\n",
       "1668   a2f9a26b7d   aww           aww          2  4.0"
      ]
     },
     "execution_count": 132,
     "metadata": {},
     "output_type": "execute_result"
    }
   ],
   "source": [
    "train_dfa['len'] = train_dfa['text'].str.len() # Store string length of each sample\n",
    "train_dfa = train_dfa.sort_values(['len'], ascending=True)\n",
    "train_dfa = train_dfa.dropna()\n",
    "train_dfa.head(10) #We see that most of the short text phrases are rated positive"
   ]
  },
  {
   "cell_type": "code",
   "execution_count": 133,
   "metadata": {},
   "outputs": [
    {
     "data": {
      "text/html": [
       "<div>\n",
       "<style scoped>\n",
       "    .dataframe tbody tr th:only-of-type {\n",
       "        vertical-align: middle;\n",
       "    }\n",
       "\n",
       "    .dataframe tbody tr th {\n",
       "        vertical-align: top;\n",
       "    }\n",
       "\n",
       "    .dataframe thead th {\n",
       "        text-align: right;\n",
       "    }\n",
       "</style>\n",
       "<table border=\"1\" class=\"dataframe\">\n",
       "  <thead>\n",
       "    <tr style=\"text-align: right;\">\n",
       "      <th></th>\n",
       "      <th>textID</th>\n",
       "      <th>text</th>\n",
       "      <th>sentiment</th>\n",
       "    </tr>\n",
       "  </thead>\n",
       "  <tbody>\n",
       "    <tr>\n",
       "      <td>0</td>\n",
       "      <td>f87dea47db</td>\n",
       "      <td>Last session of the day  http://twitpic.com/67ezh</td>\n",
       "      <td>2</td>\n",
       "    </tr>\n",
       "    <tr>\n",
       "      <td>1</td>\n",
       "      <td>96d74cb729</td>\n",
       "      <td>Shanghai is also really exciting (precisely -...</td>\n",
       "      <td>3</td>\n",
       "    </tr>\n",
       "    <tr>\n",
       "      <td>2</td>\n",
       "      <td>eee518ae67</td>\n",
       "      <td>Recession hit Veronique Branquinho, she has to...</td>\n",
       "      <td>1</td>\n",
       "    </tr>\n",
       "    <tr>\n",
       "      <td>3</td>\n",
       "      <td>01082688c6</td>\n",
       "      <td>happy bday!</td>\n",
       "      <td>3</td>\n",
       "    </tr>\n",
       "    <tr>\n",
       "      <td>4</td>\n",
       "      <td>33987a8ee5</td>\n",
       "      <td>http://twitpic.com/4w75p - I like it!!</td>\n",
       "      <td>3</td>\n",
       "    </tr>\n",
       "  </tbody>\n",
       "</table>\n",
       "</div>"
      ],
      "text/plain": [
       "       textID                                               text  sentiment\n",
       "0  f87dea47db  Last session of the day  http://twitpic.com/67ezh          2\n",
       "1  96d74cb729   Shanghai is also really exciting (precisely -...          3\n",
       "2  eee518ae67  Recession hit Veronique Branquinho, she has to...          1\n",
       "3  01082688c6                                        happy bday!          3\n",
       "4  33987a8ee5             http://twitpic.com/4w75p - I like it!!          3"
      ]
     },
     "execution_count": 133,
     "metadata": {},
     "output_type": "execute_result"
    }
   ],
   "source": [
    "test_dfa = test_df.copy()\n",
    "test_dfa.replace(cleanup_nums, inplace=True)\n",
    "test_dfa.head(5)"
   ]
  },
  {
   "cell_type": "markdown",
   "metadata": {},
   "source": [
    "# Training a Logistic Regression Classifier"
   ]
  },
  {
   "cell_type": "code",
   "execution_count": 144,
   "metadata": {},
   "outputs": [
    {
     "name": "stdout",
     "output_type": "stream",
     "text": [
      "              precision    recall  f1-score      support\n",
      "negative       0.736479  0.639361  0.684492  1001.000000\n",
      "neutral        0.643282  0.756643  0.695373  1430.000000\n",
      "positive       0.796541  0.709882  0.750719  1103.000000\n",
      "accuracy       0.708829  0.708829  0.708829     0.708829\n",
      "macro avg      0.725434  0.701962  0.710195  3534.000000\n",
      "weighted avg   0.717514  0.708829  0.709565  3534.000000\n"
     ]
    },
    {
     "data": {
      "text/plain": [
       "<matplotlib.axes._subplots.AxesSubplot at 0x1cecd711308>"
      ]
     },
     "execution_count": 144,
     "metadata": {},
     "output_type": "execute_result"
    },
    {
     "data": {
      "image/png": "[encoded data removed]",
      "text/plain": [
       "<Figure size 864x864 with 2 Axes>"
      ]
     },
     "metadata": {
      "needs_background": "light"
     },
     "output_type": "display_data"
    }
   ],
   "source": [
    "# Create a transformation pipeline\n",
    "# The pipeline sequentially applies a list of transforms and as a final estimator logistic regression \n",
    "pipeline_log = Pipeline([\n",
    "                ('count', CountVectorizer()),\n",
    "                ('tfidf', TfidfTransformer()),\n",
    "                ('clf', LogisticRegression(solver='liblinear', multi_class='auto')),\n",
    "        ])\n",
    "\n",
    "# Train model using the created sklearn pipeline\n",
    "learner_log = pipeline_log.fit(train_dfa['text'], train_dfa['sentiment'])\n",
    "\n",
    "# Predict class labels using the learner function\n",
    "test_dfa['pred'] = learner_log.predict(test_dfa['text'])\n",
    "y_true = test_dfa['sentiment']\n",
    "y_pred = test_dfa['pred']\n",
    "target_names = ['negative', 'neutral', 'positive']\n",
    "\n",
    "# Confusion Matrix\n",
    "results_log = classification_report(y_true, y_pred, target_names=target_names, output_dict=True)\n",
    "results_df_log = pd.DataFrame(results_log).transpose()\n",
    "print(results_df_log)\n",
    "skplt.metrics.plot_confusion_matrix(y_true,  y_pred, figsize=(12,12))"
   ]
  },
  {
   "cell_type": "markdown",
   "metadata": {},
   "source": [
    "# Training a Bayes Classifier"
   ]
  },
  {
   "cell_type": "code",
   "execution_count": 174,
   "metadata": {
    "scrolled": false
   },
   "outputs": [
    {
     "name": "stdout",
     "output_type": "stream",
     "text": [
      "              precision    recall  f1-score      support\n",
      "negative       0.782700  0.370629  0.503051  1001.000000\n",
      "neutral        0.531678  0.868531  0.659586  1430.000000\n",
      "positive       0.821823  0.539438  0.651341  1103.000000\n",
      "accuracy       0.624788  0.624788  0.624788     0.624788\n",
      "macro avg      0.712067  0.592866  0.604659  3534.000000\n",
      "weighted avg   0.693337  0.624788  0.612674  3534.000000\n"
     ]
    },
    {
     "data": {
      "text/plain": [
       "<matplotlib.axes._subplots.AxesSubplot at 0x1ced00f1408>"
      ]
     },
     "execution_count": 174,
     "metadata": {},
     "output_type": "execute_result"
    },
    {
     "data": {
      "image/png": "[encoded data removed]",
      "text/plain": [
       "<Figure size 864x864 with 2 Axes>"
      ]
     },
     "metadata": {
      "needs_background": "light"
     },
     "output_type": "display_data"
    }
   ],
   "source": [
    "# Create a pipeline which transforms phrases into normalized feature vectors and uses a bayes estimator\n",
    "pipeline_bayes = Pipeline([\n",
    "                ('count', CountVectorizer()),\n",
    "                ('tfidf', TfidfTransformer()),\n",
    "                ('gnb', MultinomialNB()),\n",
    "                ])\n",
    "\n",
    "# Train model using the created sklearn pipeline\n",
    "learner_bayes = pipeline_bayes.fit(train_dfa['text'], train_dfa['sentiment'])\n",
    "\n",
    "# Predict class labels using the learner function\n",
    "test_dfa['pred'] = learner_bayes.predict(test_dfa['text'])\n",
    "y_true = test_dfa['sentiment']\n",
    "y_pred_bayes = test_dfa['pred']\n",
    "target_names = ['negative', 'neutral', 'positive']\n",
    "\n",
    "# Confusion Matrix\n",
    "results_bayes = classification_report(y_true, y_pred, target_names=target_names, output_dict=True)\n",
    "results_df_bayes = pd.DataFrame(results_bayes).transpose()\n",
    "print(results_df_bayes)\n",
    "skplt.metrics.plot_confusion_matrix(y_true, y_pred, figsize=(12,12))"
   ]
  },
  {
   "cell_type": "markdown",
   "metadata": {},
   "source": [
    "# Comparing classifier performance"
   ]
  },
  {
   "cell_type": "code",
   "execution_count": 146,
   "metadata": {},
   "outputs": [
    {
     "data": {
      "image/png": "[encoded data removed]",
      "text/plain": [
       "<Figure size 432x576 with 1 Axes>"
      ]
     },
     "metadata": {
      "needs_background": "light"
     },
     "output_type": "display_data"
    }
   ],
   "source": [
    "# Plotting the data\n",
    "\n",
    "# Preparing bayes classifier metrics\n",
    "bayes_precision = results_df_bayes['precision'].at['weighted avg']\n",
    "bayes_f1_score = results_df_bayes['f1-score'].at['weighted avg']\n",
    "bayes_accuracy = results_df_bayes['recall'].at['weighted avg']\n",
    "\n",
    "# Preparing logistic regression classifier metrics\n",
    "log_precision = results_df_log['precision'].at['weighted avg']\n",
    "log_f1_score = results_df_log['f1-score'].at['weighted avg']\n",
    "log_accuracy = results_df_log['recall'].at['weighted avg']\n",
    "\n",
    "# Preparing the plot\n",
    "fig, ax1 = plt.subplots(figsize=(6, 8))\n",
    "\n",
    "# set width of bar\n",
    "barWidth = 0.15\n",
    " \n",
    "# set height of bar\n",
    "accuracy = [log_accuracy, bayes_accuracy]\n",
    "f1_score = [log_f1_score, bayes_f1_score]\n",
    "precision = [log_precision, bayes_precision]\n",
    "\n",
    "# Set position of bar on X axis\n",
    "r1 = np.arange(2)\n",
    "r2 = [x + barWidth for x in r1]\n",
    "r3 = [x + barWidth for x in r2]\n",
    " \n",
    "# Make the plot\n",
    "plt.bar(r1, accuracy, color='#EE4747', width=barWidth, edgecolor='white', label='accuracy')\n",
    "plt.bar(r2, f1_score, color='#3333ff', width=barWidth, edgecolor='white', label='recall')\n",
    "plt.bar(r3, precision, color='#2d7f5e', width=barWidth, edgecolor='white', label='precision')\n",
    " \n",
    "# Add xticks on the middle of the group bars\n",
    "plt.xlabel('algorithm', fontweight='bold')\n",
    "plt.xticks([r + barWidth for r in range(len(accuracy))], ['logistic regression', 'bayes'])\n",
    " \n",
    "# Create legend & Show graphic\n",
    "plt.legend()\n",
    "plt.grid(color='white')\n",
    "plt.show()"
   ]
  },
  {
   "cell_type": "markdown",
   "metadata": {},
   "source": [
    "# Making some test predictions"
   ]
  },
  {
   "cell_type": "code",
   "execution_count": 153,
   "metadata": {},
   "outputs": [
    {
     "name": "stdout",
     "output_type": "stream",
     "text": [
      "Mondays just suck!-> Negative\n",
      "I love this product-> Positive\n",
      "That is a tree-> Neutral\n",
      "Terrible service-> Negative\n"
     ]
    }
   ],
   "source": [
    "testphrases = ['Mondays just suck!', 'I love this product', 'That is a tree', 'Terrible service']\n",
    "for testphrase in testphrases:\n",
    "    resultx = learner_log.predict([testphrase])\n",
    "    dict = {1: 'Negative', 2: 'Neutral', 3: 'Positive'}\n",
    "    print(testphrase + '-> ' + dict[resultx[0]])"
   ]
  }
 ],
 "metadata": {
  "kernelspec": {
   "display_name": "Python 3",
   "language": "python",
   "name": "python3"
  },
  "language_info": {
   "codemirror_mode": {
    "name": "ipython",
    "version": 3
   },
   "file_extension": ".py",
   "mimetype": "text/x-python",
   "name": "python",
   "nbconvert_exporter": "python",
   "pygments_lexer": "ipython3",
   "version": "3.7.4"
  }
 },
 "nbformat": 4,
 "nbformat_minor": 2
}
