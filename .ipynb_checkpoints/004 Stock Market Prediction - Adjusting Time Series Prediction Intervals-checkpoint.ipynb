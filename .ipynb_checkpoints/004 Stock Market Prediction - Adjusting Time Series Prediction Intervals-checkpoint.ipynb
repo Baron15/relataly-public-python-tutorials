{
 "cells": [
  {
   "cell_type": "code",
   "execution_count": 16,
   "metadata": {},
   "outputs": [],
   "source": [
    "# Remote data access for pandas\n",
    "import pandas_datareader as webreader\n",
    "# Mathematical functions \n",
    "import math \n",
    "# Fundamental package for scientific computing with Python\n",
    "import numpy as np \n",
    "# Additional functions for analysing and manipulating data\n",
    "import pandas as pd \n",
    "# Date Functions\n",
    "from datetime import date, timedelta\n",
    "# This function adds plotting functions for calender dates\n",
    "from pandas.plotting import register_matplotlib_converters\n",
    "# Important package for visualization - we use this to plot the market data\n",
    "import matplotlib.pyplot as plt \n",
    "# Formatting dates\n",
    "import matplotlib.dates as mdates\n",
    "# Packages for measuring model performance / errors\n",
    "from sklearn.metrics import mean_absolute_error, mean_squared_error\n",
    "# Tools for predictive data analysis. We will use the MinMaxScaler to normalize the price data \n",
    "from sklearn.preprocessing import MinMaxScaler \n",
    "# Deep learning library, used for neural networks\n",
    "from keras.models import Sequential \n",
    "# Deep learning classes for recurrent and regular densely-connected layers\n",
    "from keras.layers import LSTM, Dense"
   ]
  },
  {
   "cell_type": "code",
   "execution_count": 17,
   "metadata": {},
   "outputs": [
    {
     "data": {
      "text/html": [
       "<div>\n",
       "<style scoped>\n",
       "    .dataframe tbody tr th:only-of-type {\n",
       "        vertical-align: middle;\n",
       "    }\n",
       "\n",
       "    .dataframe tbody tr th {\n",
       "        vertical-align: top;\n",
       "    }\n",
       "\n",
       "    .dataframe thead th {\n",
       "        text-align: right;\n",
       "    }\n",
       "</style>\n",
       "<table border=\"1\" class=\"dataframe\">\n",
       "  <thead>\n",
       "    <tr style=\"text-align: right;\">\n",
       "      <th></th>\n",
       "      <th>High</th>\n",
       "      <th>Low</th>\n",
       "      <th>Open</th>\n",
       "      <th>Close</th>\n",
       "      <th>Volume</th>\n",
       "      <th>Adj Close</th>\n",
       "    </tr>\n",
       "    <tr>\n",
       "      <th>Date</th>\n",
       "      <th></th>\n",
       "      <th></th>\n",
       "      <th></th>\n",
       "      <th></th>\n",
       "      <th></th>\n",
       "      <th></th>\n",
       "    </tr>\n",
       "  </thead>\n",
       "  <tbody>\n",
       "    <tr>\n",
       "      <td>2010-01-04</td>\n",
       "      <td>1133.869995</td>\n",
       "      <td>1116.560059</td>\n",
       "      <td>1116.560059</td>\n",
       "      <td>1132.989990</td>\n",
       "      <td>3991400000</td>\n",
       "      <td>1132.989990</td>\n",
       "    </tr>\n",
       "    <tr>\n",
       "      <td>2010-01-05</td>\n",
       "      <td>1136.630005</td>\n",
       "      <td>1129.660034</td>\n",
       "      <td>1132.660034</td>\n",
       "      <td>1136.520020</td>\n",
       "      <td>2491020000</td>\n",
       "      <td>1136.520020</td>\n",
       "    </tr>\n",
       "    <tr>\n",
       "      <td>2010-01-06</td>\n",
       "      <td>1139.189941</td>\n",
       "      <td>1133.949951</td>\n",
       "      <td>1135.709961</td>\n",
       "      <td>1137.140015</td>\n",
       "      <td>4972660000</td>\n",
       "      <td>1137.140015</td>\n",
       "    </tr>\n",
       "    <tr>\n",
       "      <td>2010-01-07</td>\n",
       "      <td>1142.459961</td>\n",
       "      <td>1131.319946</td>\n",
       "      <td>1136.270020</td>\n",
       "      <td>1141.689941</td>\n",
       "      <td>5270680000</td>\n",
       "      <td>1141.689941</td>\n",
       "    </tr>\n",
       "    <tr>\n",
       "      <td>2010-01-08</td>\n",
       "      <td>1145.390015</td>\n",
       "      <td>1136.219971</td>\n",
       "      <td>1140.520020</td>\n",
       "      <td>1144.979980</td>\n",
       "      <td>4389590000</td>\n",
       "      <td>1144.979980</td>\n",
       "    </tr>\n",
       "  </tbody>\n",
       "</table>\n",
       "</div>"
      ],
      "text/plain": [
       "                   High          Low         Open        Close      Volume  \\\n",
       "Date                                                                         \n",
       "2010-01-04  1133.869995  1116.560059  1116.560059  1132.989990  3991400000   \n",
       "2010-01-05  1136.630005  1129.660034  1132.660034  1136.520020  2491020000   \n",
       "2010-01-06  1139.189941  1133.949951  1135.709961  1137.140015  4972660000   \n",
       "2010-01-07  1142.459961  1131.319946  1136.270020  1141.689941  5270680000   \n",
       "2010-01-08  1145.390015  1136.219971  1140.520020  1144.979980  4389590000   \n",
       "\n",
       "              Adj Close  \n",
       "Date                     \n",
       "2010-01-04  1132.989990  \n",
       "2010-01-05  1136.520020  \n",
       "2010-01-06  1137.140015  \n",
       "2010-01-07  1141.689941  \n",
       "2010-01-08  1144.979980  "
      ]
     },
     "execution_count": 17,
     "metadata": {},
     "output_type": "execute_result"
    }
   ],
   "source": [
    "# Setting the timeframe for the data extraction\n",
    "today = date.today()\n",
    "date_today = today.strftime(\"%Y-%m-%d\")\n",
    "date_start = '2010-01-01'\n",
    "\n",
    "# Getting S&P500 quotes\n",
    "stockname = 'S&P500'\n",
    "symbol = '^GSPC'\n",
    "df = webreader.DataReader(\n",
    "    symbol, start=date_start, end=date_today, data_source=\"yahoo\"\n",
    ")\n",
    "df.head(5)"
   ]
  },
  {
   "cell_type": "code",
   "execution_count": 18,
   "metadata": {},
   "outputs": [
    {
     "data": {
      "text/html": [
       "<div>\n",
       "<style scoped>\n",
       "    .dataframe tbody tr th:only-of-type {\n",
       "        vertical-align: middle;\n",
       "    }\n",
       "\n",
       "    .dataframe tbody tr th {\n",
       "        vertical-align: top;\n",
       "    }\n",
       "\n",
       "    .dataframe thead th {\n",
       "        text-align: right;\n",
       "    }\n",
       "</style>\n",
       "<table border=\"1\" class=\"dataframe\">\n",
       "  <thead>\n",
       "    <tr style=\"text-align: right;\">\n",
       "      <th></th>\n",
       "      <th>High</th>\n",
       "      <th>Low</th>\n",
       "      <th>Open</th>\n",
       "      <th>Close</th>\n",
       "      <th>Volume</th>\n",
       "      <th>Adj Close</th>\n",
       "      <th>index1</th>\n",
       "    </tr>\n",
       "    <tr>\n",
       "      <th>Date</th>\n",
       "      <th></th>\n",
       "      <th></th>\n",
       "      <th></th>\n",
       "      <th></th>\n",
       "      <th></th>\n",
       "      <th></th>\n",
       "      <th></th>\n",
       "    </tr>\n",
       "  </thead>\n",
       "  <tbody>\n",
       "    <tr>\n",
       "      <td>2010-01-12</td>\n",
       "      <td>1143.810059</td>\n",
       "      <td>1131.770020</td>\n",
       "      <td>1143.810059</td>\n",
       "      <td>1136.219971</td>\n",
       "      <td>4716160000</td>\n",
       "      <td>1136.219971</td>\n",
       "      <td>7</td>\n",
       "    </tr>\n",
       "    <tr>\n",
       "      <td>2010-01-22</td>\n",
       "      <td>1115.489990</td>\n",
       "      <td>1090.180054</td>\n",
       "      <td>1115.489990</td>\n",
       "      <td>1091.760010</td>\n",
       "      <td>6208650000</td>\n",
       "      <td>1091.760010</td>\n",
       "      <td>14</td>\n",
       "    </tr>\n",
       "    <tr>\n",
       "      <td>2010-02-02</td>\n",
       "      <td>1104.729980</td>\n",
       "      <td>1087.959961</td>\n",
       "      <td>1090.050049</td>\n",
       "      <td>1103.319946</td>\n",
       "      <td>4749540000</td>\n",
       "      <td>1103.319946</td>\n",
       "      <td>21</td>\n",
       "    </tr>\n",
       "    <tr>\n",
       "      <td>2010-02-11</td>\n",
       "      <td>1080.040039</td>\n",
       "      <td>1060.589966</td>\n",
       "      <td>1067.099976</td>\n",
       "      <td>1078.469971</td>\n",
       "      <td>4400870000</td>\n",
       "      <td>1078.469971</td>\n",
       "      <td>28</td>\n",
       "    </tr>\n",
       "    <tr>\n",
       "      <td>2010-02-23</td>\n",
       "      <td>1108.579956</td>\n",
       "      <td>1092.180054</td>\n",
       "      <td>1107.489990</td>\n",
       "      <td>1094.599976</td>\n",
       "      <td>4521050000</td>\n",
       "      <td>1094.599976</td>\n",
       "      <td>35</td>\n",
       "    </tr>\n",
       "  </tbody>\n",
       "</table>\n",
       "</div>"
      ],
      "text/plain": [
       "                   High          Low         Open        Close      Volume  \\\n",
       "Date                                                                         \n",
       "2010-01-12  1143.810059  1131.770020  1143.810059  1136.219971  4716160000   \n",
       "2010-01-22  1115.489990  1090.180054  1115.489990  1091.760010  6208650000   \n",
       "2010-02-02  1104.729980  1087.959961  1090.050049  1103.319946  4749540000   \n",
       "2010-02-11  1080.040039  1060.589966  1067.099976  1078.469971  4400870000   \n",
       "2010-02-23  1108.579956  1092.180054  1107.489990  1094.599976  4521050000   \n",
       "\n",
       "              Adj Close  index1  \n",
       "Date                             \n",
       "2010-01-12  1136.219971       7  \n",
       "2010-01-22  1091.760010      14  \n",
       "2010-02-02  1103.319946      21  \n",
       "2010-02-11  1078.469971      28  \n",
       "2010-02-23  1094.599976      35  "
      ]
     },
     "execution_count": 18,
     "metadata": {},
     "output_type": "execute_result"
    }
   ],
   "source": [
    "# Changing the data structure to a dataframe with weekly price quotes\n",
    "df[\"index1\"] = range(1, len(df) + 1)\n",
    "rownumber = df.shape[0]\n",
    "lst = list(range(rownumber))\n",
    "list_of_relevant_numbers = lst[0::7]\n",
    "wdf = df[df[\"index1\"].isin(list_of_relevant_numbers)]\n",
    "wdf.head(5)"
   ]
  },
  {
   "cell_type": "code",
   "execution_count": 19,
   "metadata": {},
   "outputs": [
    {
     "data": {
      "image/png": "[encoded data removed]",
      "text/plain": [
       "<Figure size 1152x432 with 1 Axes>"
      ]
     },
     "metadata": {
      "needs_background": "light"
     },
     "output_type": "display_data"
    }
   ],
   "source": [
    "# Visualizing the data\n",
    "register_matplotlib_converters()\n",
    "years = mdates.YearLocator()\n",
    "fig, ax1 = plt.subplots(figsize=(16, 6))\n",
    "ax1.xaxis.set_major_locator(years)\n",
    "x = wdf.index\n",
    "y = wdf[\"Close\"]\n",
    "ax1.fill_between(x, 0, y, color=\"#b9e1fa\")\n",
    "ax1.legend([stockname], fontsize=16)\n",
    "plt.title(stockname + \" Price between \" + date_start + \" and \" + date_today, fontsize=20)\n",
    "plt.plot(y, color=\"#039dfc\", label=\"S&P500\", linewidth=1.0)\n",
    "plt.ylabel(\"S&P500 Points\", fontsize=20)\n",
    "plt.show()"
   ]
  },
  {
   "cell_type": "code",
   "execution_count": 20,
   "metadata": {},
   "outputs": [
    {
     "name": "stdout",
     "output_type": "stream",
     "text": [
      "(249, 50, 1)\n",
      "(249,)\n"
     ]
    }
   ],
   "source": [
    "# Create a new dataframe with only the Close column\n",
    "data = wdf.filter([\"Close\"])\n",
    "\n",
    "# Convert the dataframe to a numpy array and get the number of rows to train the model on 80% of the data\n",
    "npdataset = data.values\n",
    "training_data_length = math.ceil(len(npdataset) * 0.8)\n",
    "\n",
    "# Transform features by scaling each feature to a range between 0 and 1\n",
    "mmscaler = MinMaxScaler(feature_range=(0, 1))\n",
    "scaled_data = mmscaler.fit_transform(npdataset)\n",
    "\n",
    "# Create a scaled training data set\n",
    "train_data = scaled_data[0:training_data_length, :]\n",
    "\n",
    "# Split the data into x_train and y_train data sets\n",
    "x_train = []\n",
    "y_train = []\n",
    "trainingdatasize = len(train_data)\n",
    "\n",
    "for i in range(50, trainingdatasize):\n",
    "    x_train.append(train_data[i - 50 : i, 0])  # contains 50 values 0-50\n",
    "    y_train.append(train_data[i, 0])  # contains all other values\n",
    "\n",
    "# Convert the x_train and y_train to numpy arrays\n",
    "x_train = np.array(x_train)\n",
    "y_train = np.array(y_train)\n",
    "\n",
    "# Reshape the data\n",
    "x_train = np.reshape(x_train, (x_train.shape[0], x_train.shape[1], 1))\n",
    "print(x_train.shape)\n",
    "print(y_train.shape)"
   ]
  },
  {
   "cell_type": "code",
   "execution_count": 21,
   "metadata": {},
   "outputs": [],
   "source": [
    "# Configure the neural network model\n",
    "model = Sequential()\n",
    "\n",
    "# Model with 50 Neurons\n",
    "# inputshape = 50 weekly price quotes\n",
    "model.add(LSTM(50, return_sequences=True, input_shape=(x_train.shape[1], x_train.shape[2])))\n",
    "model.add(LSTM(50, return_sequences=False))\n",
    "model.add(Dense(25, activation=\"relu\"))\n",
    "model.add(Dense(1))\n",
    "\n",
    "# Compile the model\n",
    "model.compile(optimizer=\"adam\", loss=\"mean_squared_error\")"
   ]
  },
  {
   "cell_type": "code",
   "execution_count": 22,
   "metadata": {},
   "outputs": [],
   "source": [
    "# Create a new array containing the test dataset\n",
    "test_data = scaled_data[training_data_length - 50 :, :]\n",
    "\n",
    "# Create the data sets x_test and y_test\n",
    "x_test = []\n",
    "y_test = npdataset[training_data_length:, :]\n",
    "for i in range(50, len(test_data)):\n",
    "    x_test.append(test_data[i - 50 : i, 0])"
   ]
  },
  {
   "cell_type": "code",
   "execution_count": 23,
   "metadata": {},
   "outputs": [
    {
     "name": "stdout",
     "output_type": "stream",
     "text": [
      "Epoch 1/5\n",
      "249/249 [==============================] - 6s 24ms/step - loss: 0.0061\n",
      "Epoch 2/5\n",
      "249/249 [==============================] - 5s 18ms/step - loss: 0.0032\n",
      "Epoch 3/5\n",
      "249/249 [==============================] - 5s 18ms/step - loss: 0.0036\n",
      "Epoch 4/5\n",
      "249/249 [==============================] - 5s 19ms/step - loss: 0.0023\n",
      "Epoch 5/5\n",
      "249/249 [==============================] - 5s 19ms/step - loss: 0.0022\n"
     ]
    },
    {
     "data": {
      "text/plain": [
       "<keras.callbacks.callbacks.History at 0x23c5dd8c948>"
      ]
     },
     "execution_count": 23,
     "metadata": {},
     "output_type": "execute_result"
    }
   ],
   "source": [
    "# Train the model\n",
    "model.fit(x_train, y_train, batch_size=2, epochs=5)"
   ]
  },
  {
   "cell_type": "code",
   "execution_count": 24,
   "metadata": {},
   "outputs": [],
   "source": [
    "# Convert the data to a numpy array\n",
    "x_test = np.array(x_test)\n",
    "\n",
    "# Reshape the data, so that we get an array with multiple test datasets\n",
    "x_test = np.reshape(x_test, (x_test.shape[0], x_test.shape[1], 1))\n",
    "\n",
    "# Get the predicted values\n",
    "predictions = model.predict(x_test)\n",
    "predictions = mmscaler.inverse_transform(predictions)"
   ]
  },
  {
   "cell_type": "code",
   "execution_count": 25,
   "metadata": {},
   "outputs": [
    {
     "name": "stdout",
     "output_type": "stream",
     "text": [
      "RMSE: 885.8\n",
      "ME: 887.1\n",
      "MAE: 885.796633\n"
     ]
    }
   ],
   "source": [
    "# Get the root mean squarred error (RMSE)\n",
    "rmse = np.sqrt(np.mean(predictions - y_test)**2)\n",
    "print('RMSE: ' + str(round(rmse, 1)))\n",
    "\n",
    "# Get the meadian error (ME)\n",
    "me = np.median(y_test-predictions)\n",
    "print('ME: ' + str(round(me, 1)))\n",
    "\n",
    "# Get the mean absolute error\n",
    "mae = mean_absolute_error(y_test, predictions)\n",
    "print('MAE: %f' % mae)"
   ]
  },
  {
   "cell_type": "code",
   "execution_count": 26,
   "metadata": {
    "scrolled": false
   },
   "outputs": [
    {
     "data": {
      "image/png": "[encoded data removed]",
      "text/plain": [
       "<Figure size 1584x576 with 1 Axes>"
      ]
     },
     "metadata": {
      "needs_background": "light"
     },
     "output_type": "display_data"
    }
   ],
   "source": [
    "# The date from which on the date is displayed\n",
    "display_start_date = \"2017-06-01\" \n",
    "\n",
    "# Add the difference between the valid and predicted prices\n",
    "train = data[:training_data_length + 1]\n",
    "valid = data[training_data_length:]\n",
    "valid.insert(1, \"Predictions\", predictions, True)\n",
    "valid.insert(1, \"Difference\", valid[\"Predictions\"] - valid[\"Close\"], True)\n",
    "\n",
    "# Zoom in to a closer timeframe\n",
    "valid = valid[valid.index > display_start_date]\n",
    "train = train[train.index > display_start_date]\n",
    "\n",
    "# Visualize the data\n",
    "fig, ax1 = plt.subplots(figsize=(22, 8), sharex=True)\n",
    "xt = train.index; yt = train[[\"Close\"]]\n",
    "xv = valid.index; yv = valid[[\"Close\", \"Predictions\"]]\n",
    "plt.title(\"Predictions vs Ground Truth\", fontsize=20)\n",
    "plt.ylabel(stockname, fontsize=18)\n",
    "plt.plot(yt, color=\"#039dfc\", linewidth=2.0)\n",
    "plt.plot(yv[\"Predictions\"], color=\"#E91D9E\", linewidth=2.0)\n",
    "plt.plot(yv[\"Close\"], color=\"black\", linewidth=2.0)\n",
    "plt.legend([\"Train\", \"Train Predictions\", \"Ground Truth\"], loc=\"upper left\")\n",
    "\n",
    "# Fill between plotlines\n",
    "ax1.fill_between(xt, 0, yt[\"Close\"], color=\"#b9e1fa\")\n",
    "ax1.fill_between(xv, 0, yv[\"Predictions\"], color=\"#F0845C\")\n",
    "ax1.fill_between(xv, yv[\"Close\"], yv[\"Predictions\"], color=\"grey\") \n",
    "\n",
    "# Create the bar plot with the differences\n",
    "x = valid.index\n",
    "y = valid[\"Difference\"]\n",
    "plt.bar(x, y, width=5, color=\"black\")\n",
    "plt.grid()\n",
    "plt.show()"
   ]
  },
  {
   "cell_type": "code",
   "execution_count": 27,
   "metadata": {},
   "outputs": [
    {
     "data": {
      "text/plain": [
       "<BarContainer object of 74 artists>"
      ]
     },
     "execution_count": 27,
     "metadata": {},
     "output_type": "execute_result"
    },
    {
     "data": {
      "image/png": "[encoded data removed]",
      "text/plain": [
       "<Figure size 1584x576 with 1 Axes>"
      ]
     },
     "metadata": {
      "needs_background": "light"
     },
     "output_type": "display_data"
    }
   ],
   "source": [
    "# Add the difference between the valid and predicted prices\n",
    "diffdf = valid\n",
    "differences = diffdf[\"Predictions\"] - diffdf[\"Close\"]\n",
    "diffdf.loc[:, \"difference\"] = differences\n",
    "x = diffdf.index\n",
    "y = diffdf[\"difference\"]\n",
    "\n",
    "\n",
    "# Create the bar plot with the differences\n",
    "plt.subplots(figsize=(22, 8))\n",
    "plt.grid()\n",
    "low = min(y)\n",
    "high = max(y)\n",
    "plt.ylim([low, high])\n",
    "plt.title(\"Differences between valid prices and price predictions\", fontsize=18)\n",
    "plt.bar(x, y, width=5, color=\"black\")"
   ]
  },
  {
   "cell_type": "code",
   "execution_count": 28,
   "metadata": {},
   "outputs": [
    {
     "name": "stdout",
     "output_type": "stream",
     "text": [
      "The price for S&P500 at 2020-05-27 was: 2992.0 0\n",
      "The predicted S&P500 price at 2020-06-03 is: 1988.0\n"
     ]
    }
   ],
   "source": [
    "# Get fresh data until today and create a new dataframe with only the price data\n",
    "price_quote = webreader.DataReader(symbol, data_source='yahoo', start=date_start, end=date_today)\n",
    "new_df = price_quote.filter(['Close'])\n",
    "\n",
    "# Get the last 50 day closing price values and scale the data to be values between 0 and 1\n",
    "last_50_weeks = new_df[-50:].values\n",
    "last_50_weeks_scaled = mmscaler.transform(last_50_weeks)\n",
    "\n",
    "# Create an empty list and append past 50 weeks\n",
    "X_test = []\n",
    "X_test.append(last_50_weeks_scaled)\n",
    "\n",
    "# Convert the X_test data set to a numpy array and reshape the data\n",
    "X_test = np.array(X_test)\n",
    "X_test = np.reshape(X_test, (X_test.shape[0], X_test.shape[1], 1))\n",
    "\n",
    "# Get the predicted scaled price and undo the scaling\n",
    "pred_price = model.predict(X_test)\n",
    "pred_price = mmscaler.inverse_transform(pred_price)\n",
    "\n",
    "# print the predicted price\n",
    "date_next_week = date.today() + timedelta(days=7)\n",
    "print('The price for ' + stockname + ' at ' + date_today + ' was: ' + str(round(new_df.at[df.index.max(), 'Close'])), 0)\n",
    "print('The predicted ' + stockname + ' price at ' + str(date_next_week) + ' is: ' + str(round(pred_price[0, 0], 0)))"
   ]
  }
 ],
 "metadata": {
  "kernelspec": {
   "display_name": "Python 3",
   "language": "python",
   "name": "python3"
  },
  "language_info": {
   "codemirror_mode": {
    "name": "ipython",
    "version": 3
   },
   "file_extension": ".py",
   "mimetype": "text/x-python",
   "name": "python",
   "nbconvert_exporter": "python",
   "pygments_lexer": "ipython3",
   "version": "3.7.4"
  }
 },
 "nbformat": 4,
 "nbformat_minor": 4
}
