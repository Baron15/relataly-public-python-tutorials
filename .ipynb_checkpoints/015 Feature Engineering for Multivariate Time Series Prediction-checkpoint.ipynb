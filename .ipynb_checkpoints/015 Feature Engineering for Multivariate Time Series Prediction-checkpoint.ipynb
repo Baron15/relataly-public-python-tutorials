{
 "cells": [
  {
   "cell_type": "markdown",
   "metadata": {},
   "source": [
    "# Imports"
   ]
  },
  {
   "cell_type": "code",
   "execution_count": 8,
   "metadata": {},
   "outputs": [],
   "source": [
    "# Remote data access for pandas\n",
    "import pandas_datareader as webreader\n",
    "# Mathematical functions \n",
    "import math \n",
    "# Fundamental package for scientific computing with Python\n",
    "import numpy as np \n",
    "# Additional functions for analysing and manipulating data\n",
    "import pandas as pd \n",
    "# Date Functions\n",
    "from datetime import date, timedelta, datetime\n",
    "# This function adds plotting functions for calender dates\n",
    "from pandas.plotting import register_matplotlib_converters\n",
    "# Important package for visualization - we use this to plot the market data\n",
    "import matplotlib.pyplot as plt \n",
    "# Formatting dates\n",
    "import matplotlib.dates as mdates\n",
    "# Packages for measuring model performance / errors\n",
    "from sklearn.metrics import mean_absolute_error, mean_squared_error\n",
    "# Deep learning library, used for neural networks\n",
    "from keras.models import Sequential \n",
    "# Deep learning classes for recurrent and regular densely-connected layers\n",
    "from keras.layers import LSTM, Dense, Dropout\n",
    "# EarlyStopping during model training\n",
    "from keras.callbacks import EarlyStopping\n",
    "# This Scaler removes the median and scales the data according to the quantile range to normalize the price data \n",
    "from sklearn.preprocessing import RobustScaler"
   ]
  },
  {
   "cell_type": "markdown",
   "metadata": {},
   "source": [
    "# Loading the Data"
   ]
  },
  {
   "cell_type": "code",
   "execution_count": 9,
   "metadata": {},
   "outputs": [
    {
     "data": {
      "text/html": [
       "<div>\n",
       "<style scoped>\n",
       "    .dataframe tbody tr th:only-of-type {\n",
       "        vertical-align: middle;\n",
       "    }\n",
       "\n",
       "    .dataframe tbody tr th {\n",
       "        vertical-align: top;\n",
       "    }\n",
       "\n",
       "    .dataframe thead th {\n",
       "        text-align: right;\n",
       "    }\n",
       "</style>\n",
       "<table border=\"1\" class=\"dataframe\">\n",
       "  <thead>\n",
       "    <tr style=\"text-align: right;\">\n",
       "      <th></th>\n",
       "      <th>High</th>\n",
       "      <th>Low</th>\n",
       "      <th>Open</th>\n",
       "      <th>Close</th>\n",
       "      <th>Volume</th>\n",
       "      <th>Adj Close</th>\n",
       "    </tr>\n",
       "    <tr>\n",
       "      <th>Date</th>\n",
       "      <th></th>\n",
       "      <th></th>\n",
       "      <th></th>\n",
       "      <th></th>\n",
       "      <th></th>\n",
       "      <th></th>\n",
       "    </tr>\n",
       "  </thead>\n",
       "  <tbody>\n",
       "    <tr>\n",
       "      <td>2010-01-04</td>\n",
       "      <td>2311.149902</td>\n",
       "      <td>2294.409912</td>\n",
       "      <td>2294.409912</td>\n",
       "      <td>2308.419922</td>\n",
       "      <td>1931380000</td>\n",
       "      <td>2308.419922</td>\n",
       "    </tr>\n",
       "    <tr>\n",
       "      <td>2010-01-05</td>\n",
       "      <td>2313.729980</td>\n",
       "      <td>2295.620117</td>\n",
       "      <td>2307.270020</td>\n",
       "      <td>2308.709961</td>\n",
       "      <td>2367860000</td>\n",
       "      <td>2308.709961</td>\n",
       "    </tr>\n",
       "    <tr>\n",
       "      <td>2010-01-06</td>\n",
       "      <td>2314.070068</td>\n",
       "      <td>2295.679932</td>\n",
       "      <td>2307.709961</td>\n",
       "      <td>2301.090088</td>\n",
       "      <td>2253340000</td>\n",
       "      <td>2301.090088</td>\n",
       "    </tr>\n",
       "    <tr>\n",
       "      <td>2010-01-07</td>\n",
       "      <td>2301.300049</td>\n",
       "      <td>2285.219971</td>\n",
       "      <td>2298.090088</td>\n",
       "      <td>2300.050049</td>\n",
       "      <td>2270050000</td>\n",
       "      <td>2300.050049</td>\n",
       "    </tr>\n",
       "    <tr>\n",
       "      <td>2010-01-08</td>\n",
       "      <td>2317.600098</td>\n",
       "      <td>2290.610107</td>\n",
       "      <td>2292.239990</td>\n",
       "      <td>2317.169922</td>\n",
       "      <td>2145390000</td>\n",
       "      <td>2317.169922</td>\n",
       "    </tr>\n",
       "    <tr>\n",
       "      <td>...</td>\n",
       "      <td>...</td>\n",
       "      <td>...</td>\n",
       "      <td>...</td>\n",
       "      <td>...</td>\n",
       "      <td>...</td>\n",
       "      <td>...</td>\n",
       "    </tr>\n",
       "    <tr>\n",
       "      <td>2020-06-22</td>\n",
       "      <td>10059.610352</td>\n",
       "      <td>9916.599609</td>\n",
       "      <td>9945.490234</td>\n",
       "      <td>10056.480469</td>\n",
       "      <td>4468000000</td>\n",
       "      <td>10056.480469</td>\n",
       "    </tr>\n",
       "    <tr>\n",
       "      <td>2020-06-23</td>\n",
       "      <td>10221.849609</td>\n",
       "      <td>10112.440430</td>\n",
       "      <td>10130.830078</td>\n",
       "      <td>10131.370117</td>\n",
       "      <td>5712450000</td>\n",
       "      <td>10131.370117</td>\n",
       "    </tr>\n",
       "    <tr>\n",
       "      <td>2020-06-24</td>\n",
       "      <td>10137.500000</td>\n",
       "      <td>9842.219727</td>\n",
       "      <td>10092.919922</td>\n",
       "      <td>9909.169922</td>\n",
       "      <td>5549440000</td>\n",
       "      <td>9909.169922</td>\n",
       "    </tr>\n",
       "    <tr>\n",
       "      <td>2020-06-25</td>\n",
       "      <td>10023.280273</td>\n",
       "      <td>9810.469727</td>\n",
       "      <td>9899.360352</td>\n",
       "      <td>10017.000000</td>\n",
       "      <td>4709620000</td>\n",
       "      <td>10017.000000</td>\n",
       "    </tr>\n",
       "    <tr>\n",
       "      <td>2020-06-26</td>\n",
       "      <td>10000.669922</td>\n",
       "      <td>9749.070312</td>\n",
       "      <td>9995.120117</td>\n",
       "      <td>9757.219727</td>\n",
       "      <td>7279230000</td>\n",
       "      <td>9757.219727</td>\n",
       "    </tr>\n",
       "  </tbody>\n",
       "</table>\n",
       "<p>2639 rows × 6 columns</p>\n",
       "</div>"
      ],
      "text/plain": [
       "                    High           Low          Open         Close  \\\n",
       "Date                                                                 \n",
       "2010-01-04   2311.149902   2294.409912   2294.409912   2308.419922   \n",
       "2010-01-05   2313.729980   2295.620117   2307.270020   2308.709961   \n",
       "2010-01-06   2314.070068   2295.679932   2307.709961   2301.090088   \n",
       "2010-01-07   2301.300049   2285.219971   2298.090088   2300.050049   \n",
       "2010-01-08   2317.600098   2290.610107   2292.239990   2317.169922   \n",
       "...                  ...           ...           ...           ...   \n",
       "2020-06-22  10059.610352   9916.599609   9945.490234  10056.480469   \n",
       "2020-06-23  10221.849609  10112.440430  10130.830078  10131.370117   \n",
       "2020-06-24  10137.500000   9842.219727  10092.919922   9909.169922   \n",
       "2020-06-25  10023.280273   9810.469727   9899.360352  10017.000000   \n",
       "2020-06-26  10000.669922   9749.070312   9995.120117   9757.219727   \n",
       "\n",
       "                Volume     Adj Close  \n",
       "Date                                  \n",
       "2010-01-04  1931380000   2308.419922  \n",
       "2010-01-05  2367860000   2308.709961  \n",
       "2010-01-06  2253340000   2301.090088  \n",
       "2010-01-07  2270050000   2300.050049  \n",
       "2010-01-08  2145390000   2317.169922  \n",
       "...                ...           ...  \n",
       "2020-06-22  4468000000  10056.480469  \n",
       "2020-06-23  5712450000  10131.370117  \n",
       "2020-06-24  5549440000   9909.169922  \n",
       "2020-06-25  4709620000  10017.000000  \n",
       "2020-06-26  7279230000   9757.219727  \n",
       "\n",
       "[2639 rows x 6 columns]"
      ]
     },
     "execution_count": 9,
     "metadata": {},
     "output_type": "execute_result"
    }
   ],
   "source": [
    "# Setting the timeframe for the data extraction\n",
    "today = date.today()\n",
    "date_today = today.strftime(\"%Y-%m-%d\")\n",
    "date_start = '2010-01-01'\n",
    "\n",
    "# Getting NASDAQ quotes\n",
    "stockname = 'NASDAQ'\n",
    "symbol = '^IXIC'\n",
    "df = webreader.DataReader(\n",
    "    symbol, start=date_start, end=date_today, data_source=\"yahoo\"\n",
    ")\n",
    "\n",
    "# Quick overview of dataset\n",
    "train_dfs = df.copy()\n",
    "train_dfs"
   ]
  },
  {
   "cell_type": "markdown",
   "metadata": {},
   "source": [
    "# Exploring the data"
   ]
  },
  {
   "cell_type": "code",
   "execution_count": 10,
   "metadata": {},
   "outputs": [
    {
     "data": {
      "image/png": "[encoded data removed]",
      "text/plain": [
       "<Figure size 1152x504 with 6 Axes>"
      ]
     },
     "metadata": {
      "needs_background": "light"
     },
     "output_type": "display_data"
    }
   ],
   "source": [
    "# Plot each column\n",
    "register_matplotlib_converters()\n",
    "nrows = 3\n",
    "ncols = int(round(train_dfs.shape[1] / nrows, 0))\n",
    "fig, ax = plt.subplots(nrows=nrows, ncols=ncols, sharex=True, figsize=(16, 7))\n",
    "fig.subplots_adjust(hspace=0.3, wspace=0.3)\n",
    "x = train_dfs.index\n",
    "columns = train_dfs.columns\n",
    "f = 0\n",
    "for i in range(nrows):\n",
    "    for j in range(ncols):\n",
    "        ax[i, j].xaxis.set_major_locator(mdates.YearLocator())\n",
    "        assetname = columns[f]\n",
    "        y = train_dfs[assetname]\n",
    "        f += 1\n",
    "        ax[i, j].plot(x, y, color='#039dfc', label=stockname, linewidth=1.0)\n",
    "        ax[i, j].set_title(assetname)\n",
    "        ax[i, j].tick_params(axis=\"x\", rotation=90, labelsize=10, length=0)   \n",
    "#plt.show()"
   ]
  },
  {
   "cell_type": "markdown",
   "metadata": {},
   "source": [
    "# Feature Engineering"
   ]
  },
  {
   "cell_type": "code",
   "execution_count": 11,
   "metadata": {},
   "outputs": [
    {
     "data": {
      "text/html": [
       "<div>\n",
       "<style scoped>\n",
       "    .dataframe tbody tr th:only-of-type {\n",
       "        vertical-align: middle;\n",
       "    }\n",
       "\n",
       "    .dataframe tbody tr th {\n",
       "        vertical-align: top;\n",
       "    }\n",
       "\n",
       "    .dataframe thead th {\n",
       "        text-align: right;\n",
       "    }\n",
       "</style>\n",
       "<table border=\"1\" class=\"dataframe\">\n",
       "  <thead>\n",
       "    <tr style=\"text-align: right;\">\n",
       "      <th></th>\n",
       "      <th>Date</th>\n",
       "      <th>High</th>\n",
       "      <th>Low</th>\n",
       "      <th>Open</th>\n",
       "      <th>Close</th>\n",
       "      <th>Volume</th>\n",
       "      <th>Adj Close</th>\n",
       "      <th>Day</th>\n",
       "      <th>Month</th>\n",
       "      <th>Year</th>\n",
       "      <th>50days_batch</th>\n",
       "      <th>100days_batch</th>\n",
       "      <th>200days_batch</th>\n",
       "    </tr>\n",
       "  </thead>\n",
       "  <tbody>\n",
       "    <tr>\n",
       "      <td>2634</td>\n",
       "      <td>2020-06-22</td>\n",
       "      <td>10059.610352</td>\n",
       "      <td>9916.599609</td>\n",
       "      <td>9945.490234</td>\n",
       "      <td>10056.480469</td>\n",
       "      <td>4468000000</td>\n",
       "      <td>10056.480469</td>\n",
       "      <td>22</td>\n",
       "      <td>06</td>\n",
       "      <td>2020</td>\n",
       "      <td>52</td>\n",
       "      <td>26</td>\n",
       "      <td>13</td>\n",
       "    </tr>\n",
       "    <tr>\n",
       "      <td>2635</td>\n",
       "      <td>2020-06-23</td>\n",
       "      <td>10221.849609</td>\n",
       "      <td>10112.440430</td>\n",
       "      <td>10130.830078</td>\n",
       "      <td>10131.370117</td>\n",
       "      <td>5712450000</td>\n",
       "      <td>10131.370117</td>\n",
       "      <td>23</td>\n",
       "      <td>06</td>\n",
       "      <td>2020</td>\n",
       "      <td>52</td>\n",
       "      <td>26</td>\n",
       "      <td>13</td>\n",
       "    </tr>\n",
       "    <tr>\n",
       "      <td>2636</td>\n",
       "      <td>2020-06-24</td>\n",
       "      <td>10137.500000</td>\n",
       "      <td>9842.219727</td>\n",
       "      <td>10092.919922</td>\n",
       "      <td>9909.169922</td>\n",
       "      <td>5549440000</td>\n",
       "      <td>9909.169922</td>\n",
       "      <td>24</td>\n",
       "      <td>06</td>\n",
       "      <td>2020</td>\n",
       "      <td>52</td>\n",
       "      <td>26</td>\n",
       "      <td>13</td>\n",
       "    </tr>\n",
       "    <tr>\n",
       "      <td>2637</td>\n",
       "      <td>2020-06-25</td>\n",
       "      <td>10023.280273</td>\n",
       "      <td>9810.469727</td>\n",
       "      <td>9899.360352</td>\n",
       "      <td>10017.000000</td>\n",
       "      <td>4709620000</td>\n",
       "      <td>10017.000000</td>\n",
       "      <td>25</td>\n",
       "      <td>06</td>\n",
       "      <td>2020</td>\n",
       "      <td>52</td>\n",
       "      <td>26</td>\n",
       "      <td>13</td>\n",
       "    </tr>\n",
       "    <tr>\n",
       "      <td>2638</td>\n",
       "      <td>2020-06-26</td>\n",
       "      <td>10000.669922</td>\n",
       "      <td>9749.070312</td>\n",
       "      <td>9995.120117</td>\n",
       "      <td>9757.219727</td>\n",
       "      <td>7279230000</td>\n",
       "      <td>9757.219727</td>\n",
       "      <td>26</td>\n",
       "      <td>06</td>\n",
       "      <td>2020</td>\n",
       "      <td>52</td>\n",
       "      <td>26</td>\n",
       "      <td>13</td>\n",
       "    </tr>\n",
       "  </tbody>\n",
       "</table>\n",
       "</div>"
      ],
      "text/plain": [
       "           Date          High           Low          Open         Close  \\\n",
       "2634 2020-06-22  10059.610352   9916.599609   9945.490234  10056.480469   \n",
       "2635 2020-06-23  10221.849609  10112.440430  10130.830078  10131.370117   \n",
       "2636 2020-06-24  10137.500000   9842.219727  10092.919922   9909.169922   \n",
       "2637 2020-06-25  10023.280273   9810.469727   9899.360352  10017.000000   \n",
       "2638 2020-06-26  10000.669922   9749.070312   9995.120117   9757.219727   \n",
       "\n",
       "          Volume     Adj Close Day Month  Year  50days_batch  100days_batch  \\\n",
       "2634  4468000000  10056.480469  22    06  2020            52             26   \n",
       "2635  5712450000  10131.370117  23    06  2020            52             26   \n",
       "2636  5549440000   9909.169922  24    06  2020            52             26   \n",
       "2637  4709620000  10017.000000  25    06  2020            52             26   \n",
       "2638  7279230000   9757.219727  26    06  2020            52             26   \n",
       "\n",
       "      200days_batch  \n",
       "2634             13  \n",
       "2635             13  \n",
       "2636             13  \n",
       "2637             13  \n",
       "2638             13  "
      ]
     },
     "execution_count": 11,
     "metadata": {},
     "output_type": "execute_result"
    }
   ],
   "source": [
    "# Indexing Batches\n",
    "train_df = train_dfs.sort_values(by=['Date']).copy()\n",
    "\n",
    "# We safe a copy of the dates index, before we need to reset it to numbers\n",
    "date_index = train_df.index\n",
    "\n",
    "# Adding Month and Year in separate columns\n",
    "d = pd.to_datetime(train_df.index)\n",
    "train_df['Day'] = d.strftime(\"%d\") \n",
    "train_df['Month'] = d.strftime(\"%m\") \n",
    "train_df['Year'] = d.strftime(\"%Y\") \n",
    "\n",
    "# We reset the index, so we can convert the date-index to a number-index\n",
    "train_df.reset_index(level=0, inplace=True)\n",
    "\n",
    "# Adding batch indexes\n",
    "train_df['50days_batch'] = train_df.index // 50\n",
    "train_df['100days_batch'] = train_df.index // 100\n",
    "train_df['200days_batch'] = train_df.index // 200\n",
    "\n",
    "train_df.tail(5)"
   ]
  },
  {
   "cell_type": "code",
   "execution_count": 12,
   "metadata": {},
   "outputs": [],
   "source": [
    "# Feature Engineering\n",
    "def createFeatures(df):\n",
    "    df = pd.DataFrame(df)\n",
    "\n",
    "    \n",
    "    #--- Moving averages - different periods\n",
    "    df['MA200'] = df['Close'].rolling(window=200).mean() \n",
    "    df['MA100'] = df['Close'].rolling(window=100).mean() \n",
    "    df['MA50'] = df['Close'].rolling(window=50).mean() \n",
    "    df['MA26'] = df['Close'].rolling(window=26).mean() \n",
    "    df['MA20'] = df['Close'].rolling(window=20).mean() \n",
    "    df['MA12'] = df['Close'].rolling(window=12).mean() \n",
    "    \n",
    "    # Moving averages on high, lows, and std - different periods\n",
    "    df['MA200_low'] = df['Low'].rolling(window=200).min()\n",
    "    df['MA14_low'] = df['Low'].rolling(window=14).min()\n",
    "    df['MA200_high'] = df['High'].rolling(window=200).max()\n",
    "    df['MA14_high'] = df['High'].rolling(window=14).max()\n",
    "    df['MA20dSTD'] = df['Close'].rolling(window=20).std() \n",
    "    \n",
    "    # Exponential Moving Averages\n",
    "    df['EMA20'] = df['Close'].ewm(span=20, adjust=False).mean()\n",
    "    df['EMA100'] = df['Close'].ewm(span=100, adjust=False).mean()\n",
    "    df['EMA200'] = df['Close'].ewm(span=200, adjust=False).mean()\n",
    "#     length = 20\n",
    "#     multiplier = (2 / (length + 1))\n",
    "#     df['EMA20'] = SUM(df['Close'][:length]) / length\n",
    "#     df['EMA20'] = (df['Close'] * multiplier) + (df.shift(-1)['EMA20'] * (1 - multiplier))\n",
    "    \n",
    "    \n",
    "    # add shifts (Day before and two days before)\n",
    "    df['close_shift-1'] = df.groupby(['Month']).shift(-1)['Close']\n",
    "    df['close_shift-2'] = df.groupby(['Month']).shift(-2)['Close']\n",
    "\n",
    "    #--- Bollinger Bands\n",
    "    df['Bollinger_Upper'] = df['MA20'] + (df['MA20dSTD'] * 2)\n",
    "    df['Bollinger_Lower'] = df['MA20'] - (df['MA20dSTD'] * 2)\n",
    "    \n",
    "    #--- Statistical Oscilliator on Relative Strength Index (StochRSI)\n",
    "    # Create the \"K-ratio\" column in the DataFrame\n",
    "    df['K-ratio'] = 100*((df['Close'] - df['MA14_low']) / (df['MA14_high'] - df['MA14_low']) )\n",
    "    # Create the \"%D\" column in the DataFrame - window is the time period to be used\n",
    "    df['StochRSI'] = df['K-ratio'].rolling(window=3).mean() \n",
    "\n",
    "    \n",
    "#     #--- Moving Average Convergence/Divergence (MACD)\n",
    "#     # MACD: (12-day EMA - 26-day EMA) #Exponential Moving Average.\n",
    "#     df['MACD'] = df['MA12'] - df['MA26']\n",
    "    \n",
    "    #replace nas \n",
    "    nareplace = df.at[df.index.max(), 'Close']    \n",
    "    df.fillna((nareplace), inplace=True)\n",
    "    \n",
    "    return df"
   ]
  },
  {
   "cell_type": "code",
   "execution_count": 13,
   "metadata": {},
   "outputs": [
    {
     "name": "stdout",
     "output_type": "stream",
     "text": [
      "FEATURE LIST\n",
      "['Close', 'Date']\n"
     ]
    }
   ],
   "source": [
    "# List of considered Features\n",
    "FEATURES = [\n",
    "#             'High',\n",
    "#             'Low',\n",
    "#             'Open',\n",
    "            'Close',\n",
    "#             'Volume',\n",
    "            'Date',\n",
    "# #             'Day',\n",
    "#             'Month',\n",
    "# #             'Year',\n",
    "# #             'Adj Close',\n",
    "# #             'close_shift-1',\n",
    "# #             'close_shift-2',\n",
    "# #             'MACD',\n",
    "#              'StochRSI',\n",
    "#             'MA200',\n",
    "# #             'MA200_high',\n",
    "# #             'MA200_low',\n",
    "#             'Bollinger_Upper',\n",
    "#             'Bollinger_Lower',\n",
    "#             'MA100',            \n",
    "#             'MA50',\n",
    "#             'MA26',\n",
    "# #             'MA14_low',\n",
    "# #             'MA14_high',\n",
    "#             'MA12',\n",
    "#             'EMA20',\n",
    "#             'EMA100',\n",
    "#             'EMA200'\n",
    "           ]\n",
    "\n",
    "print('FEATURE LIST')\n",
    "print([f for f in FEATURES])"
   ]
  },
  {
   "cell_type": "code",
   "execution_count": 14,
   "metadata": {},
   "outputs": [
    {
     "data": {
      "text/html": [
       "<div>\n",
       "<style scoped>\n",
       "    .dataframe tbody tr th:only-of-type {\n",
       "        vertical-align: middle;\n",
       "    }\n",
       "\n",
       "    .dataframe tbody tr th {\n",
       "        vertical-align: top;\n",
       "    }\n",
       "\n",
       "    .dataframe thead th {\n",
       "        text-align: right;\n",
       "    }\n",
       "</style>\n",
       "<table border=\"1\" class=\"dataframe\">\n",
       "  <thead>\n",
       "    <tr style=\"text-align: right;\">\n",
       "      <th></th>\n",
       "      <th>Close</th>\n",
       "      <th>Date</th>\n",
       "      <th>Prediction</th>\n",
       "    </tr>\n",
       "  </thead>\n",
       "  <tbody>\n",
       "    <tr>\n",
       "      <td>2634</td>\n",
       "      <td>10056.480469</td>\n",
       "      <td>2020-06-22</td>\n",
       "      <td>10056.480469</td>\n",
       "    </tr>\n",
       "    <tr>\n",
       "      <td>2635</td>\n",
       "      <td>10131.370117</td>\n",
       "      <td>2020-06-23</td>\n",
       "      <td>10131.370117</td>\n",
       "    </tr>\n",
       "    <tr>\n",
       "      <td>2636</td>\n",
       "      <td>9909.169922</td>\n",
       "      <td>2020-06-24</td>\n",
       "      <td>9909.169922</td>\n",
       "    </tr>\n",
       "    <tr>\n",
       "      <td>2637</td>\n",
       "      <td>10017.000000</td>\n",
       "      <td>2020-06-25</td>\n",
       "      <td>10017.000000</td>\n",
       "    </tr>\n",
       "    <tr>\n",
       "      <td>2638</td>\n",
       "      <td>9757.219727</td>\n",
       "      <td>2020-06-26</td>\n",
       "      <td>9757.219727</td>\n",
       "    </tr>\n",
       "  </tbody>\n",
       "</table>\n",
       "</div>"
      ],
      "text/plain": [
       "             Close       Date    Prediction\n",
       "2634  10056.480469 2020-06-22  10056.480469\n",
       "2635  10131.370117 2020-06-23  10131.370117\n",
       "2636   9909.169922 2020-06-24   9909.169922\n",
       "2637  10017.000000 2020-06-25  10017.000000\n",
       "2638   9757.219727 2020-06-26   9757.219727"
      ]
     },
     "execution_count": 14,
     "metadata": {},
     "output_type": "execute_result"
    }
   ],
   "source": [
    "# Create the dataset with features\n",
    "data = createFeatures(train_df)\n",
    "\n",
    "# The date from which on the date is displayed\n",
    "use_start = \"2010-11-01\" \n",
    "use_start_date = pd.to_datetime(use_start)\n",
    "\n",
    "# Shift the timeframe by 10 month\n",
    "data = data[data['Date'] > use_start_date].copy()\n",
    "\n",
    "# Filter the data to the list of FEATURES\n",
    "data_filtered = data[FEATURES]\n",
    "\n",
    "# We add a prediction column and set dummy values to prepare the data for scaling\n",
    "data_filtered_ext = data_filtered.copy()\n",
    "data_filtered_ext['Prediction'] = data_filtered_ext['Close'] \n",
    "\n",
    "# display_start = \"2016-01-01\" \n",
    "# display_start_date = pd.to_datetime(display_start)\n",
    "\n",
    "data_filtered_ext.tail()"
   ]
  },
  {
   "cell_type": "code",
   "execution_count": 15,
   "metadata": {
    "scrolled": false
   },
   "outputs": [
    {
     "name": "stdout",
     "output_type": "stream",
     "text": [
      "3\n"
     ]
    },
    {
     "data": {
      "image/png": "[encoded data removed]",
      "text/plain": [
       "<Figure size 1152x1152 with 4 Axes>"
      ]
     },
     "metadata": {
      "needs_background": "light"
     },
     "output_type": "display_data"
    }
   ],
   "source": [
    "# Register matplotlib converters\n",
    "register_matplotlib_converters()\n",
    "print(data_filtered_ext.shape[1])\n",
    "# Define plot parameters \n",
    "nrows = 2\n",
    "ncols = int(round(data_filtered_ext.shape[1] / nrows, 0))\n",
    "fig, ax = plt.subplots(nrows=nrows, ncols=ncols, sharex=True, figsize=(16, 16))\n",
    "fig.subplots_adjust(hspace=0.3, wspace=0.3)\n",
    "\n",
    "# Plot each column\n",
    "x = data_filtered_ext['Date']\n",
    "f = 0\n",
    "for i in range(nrows):\n",
    "    for j in range(ncols):\n",
    "            ax[i, j].xaxis.set_major_locator(mdates.YearLocator())\n",
    "            if f < data_filtered_ext.shape[1]:\n",
    "                assetname = data_filtered_ext.columns[f]\n",
    "                y = data_filtered_ext[assetname]\n",
    "                f += 1\n",
    "                ax[i, j].plot(x, y, color='#039dfc', label=stockname, linewidth=1.0)\n",
    "                ax[i, j].set_title(assetname)\n",
    "                ax[i, j].tick_params(axis=\"x\", rotation=90, labelsize=10, length=0)   "
   ]
  },
  {
   "cell_type": "markdown",
   "metadata": {},
   "source": [
    "# Data Transformation and Scaling"
   ]
  },
  {
   "cell_type": "code",
   "execution_count": 16,
   "metadata": {},
   "outputs": [
    {
     "name": "stdout",
     "output_type": "stream",
     "text": [
      "(2429, 2)\n"
     ]
    }
   ],
   "source": [
    "# remove Date column before training\n",
    "dfs = data_filtered_ext.copy()\n",
    "del dfs[('Date')]\n",
    "\n",
    "# Calculate the number of rows in the data\n",
    "nrows = dfs.shape[0]\n",
    "np_data_unscaled = np.reshape(np.array(dfs), (nrows, -1))\n",
    "print(np_data_unscaled.shape)\n",
    "\n",
    "# Transform the data by scaling each feature to a range between 0 and 1\n",
    "scaler = RobustScaler()\n",
    "np_data = scaler.fit_transform(np_data_unscaled)\n",
    "\n",
    "# Creating a separate scaler that works on a single column for scaling predictions\n",
    "scaler_pred = RobustScaler()\n",
    "df_Close = pd.DataFrame(data_filtered_ext['Close'])\n",
    "np_Close_scaled = scaler_pred.fit_transform(df_Close)"
   ]
  },
  {
   "cell_type": "code",
   "execution_count": 17,
   "metadata": {},
   "outputs": [
    {
     "name": "stdout",
     "output_type": "stream",
     "text": [
      "(1844, 100, 2) (1844,)\n",
      "(485, 100, 2) (485,)\n"
     ]
    }
   ],
   "source": [
    "#Settings\n",
    "sequence_length = 100\n",
    "\n",
    "# Split the training data into x_train and y_train data sets\n",
    "# Get the number of rows to train the model on 80% of the data \n",
    "train_data_len = math.ceil(np_data.shape[0] * 0.8) #2616\n",
    "\n",
    "# Create the training data\n",
    "train_data = np_data[0:train_data_len, :]\n",
    "x_train, y_train = [], []\n",
    "# The RNN needs data with the format of [samples, time steps, features].\n",
    "# Here, we create N samples, 100 time steps per sample, and 2 features\n",
    "for i in range(100, train_data_len):\n",
    "    x_train.append(train_data[i-sequence_length:i,:]) #contains 100 values 0-100 * columsn\n",
    "    y_train.append(train_data[i, 0]) #contains the prediction values for validation\n",
    "    \n",
    "# Convert the x_train and y_train to numpy arrays\n",
    "x_train, y_train = np.array(x_train), np.array(y_train)\n",
    "\n",
    "# Create the test data\n",
    "test_data = np_data[train_data_len - sequence_length:, :]\n",
    "\n",
    "# Split the test data into x_test and y_test\n",
    "x_test, y_test = [], []\n",
    "test_data_len = test_data.shape[0]\n",
    "for i in range(sequence_length, test_data_len):\n",
    "    x_test.append(test_data[i-sequence_length:i,:]) #contains 100 values 0-100 * columsn\n",
    "    y_test.append(test_data[i, 0]) #contains the prediction values for validation\n",
    "# Convert the x_train and y_train to numpy arrays\n",
    "x_test, y_test = np.array(x_test), np.array(y_test)\n",
    "\n",
    "# Convert the x_train and y_train to numpy arrays\n",
    "x_test = np.array(x_test); y_test = np.array(y_test)\n",
    "    \n",
    "print(x_train.shape, y_train.shape)\n",
    "print(x_test.shape, y_test.shape)"
   ]
  },
  {
   "cell_type": "markdown",
   "metadata": {},
   "source": [
    "# Model Training"
   ]
  },
  {
   "cell_type": "code",
   "execution_count": 26,
   "metadata": {},
   "outputs": [
    {
     "name": "stdout",
     "output_type": "stream",
     "text": [
      "200 100 2\n"
     ]
    }
   ],
   "source": [
    "# Configure the neural network model\n",
    "model = Sequential()\n",
    "\n",
    "# Model with 100 Neurons \n",
    "# inputshape = 100 Timestamps, each with x_train.shape[2] variables\n",
    "n_neurons = x_train.shape[1] * x_train.shape[2]\n",
    "print(n_neurons, x_train.shape[1], x_train.shape[2])\n",
    "model.add(LSTM(n_neurons, return_sequences=True, input_shape=(x_train.shape[1], x_train.shape[2]))) \n",
    "#model.add(Dropout(0.2))\n",
    "model.add(LSTM(n_neurons, return_sequences=False))\n",
    "#model.add(Dropout(0.2))\n",
    "model.add(Dense(50))\n",
    "\n",
    "model.add(Dense(1, activation='relu'))\n",
    "\n",
    "# Compile the model\n",
    "model.compile(optimizer='sgd', loss='binary_crossentropy')"
   ]
  },
  {
   "cell_type": "code",
   "execution_count": 27,
   "metadata": {},
   "outputs": [
    {
     "name": "stdout",
     "output_type": "stream",
     "text": [
      "Epoch 1/25\n",
      "1844/1844 [==============================] - 25s 14ms/step - loss: -1.3881\n",
      "Epoch 2/25\n",
      "1844/1844 [==============================] - 25s 13ms/step - loss: -1.4066\n",
      "Epoch 3/25\n",
      "1844/1844 [==============================] - 28s 15ms/step - loss: -1.4066\n",
      "Epoch 4/25\n",
      "1844/1844 [==============================] - 24s 13ms/step - loss: -1.4066\n",
      "Epoch 5/25\n",
      "1844/1844 [==============================] - 24s 13ms/step - loss: -1.4066\n",
      "Epoch 00005: early stopping\n"
     ]
    }
   ],
   "source": [
    "# Training the model\n",
    "epochs = 25\n",
    "early_stop = EarlyStopping(monitor='loss', patience=2, verbose=1)\n",
    "history = model.fit(x_train, y_train, batch_size=16, epochs=epochs, callbacks=[early_stop])"
   ]
  },
  {
   "cell_type": "code",
   "execution_count": 20,
   "metadata": {},
   "outputs": [
    {
     "data": {
      "image/png": "[encoded data removed]",
      "text/plain": [
       "<Figure size 360x360 with 1 Axes>"
      ]
     },
     "metadata": {
      "needs_background": "light"
     },
     "output_type": "display_data"
    }
   ],
   "source": [
    "# Plot training & validation loss values\n",
    "fig, ax = plt.subplots(figsize=(5, 5), sharex=True)\n",
    "plt.plot(history.history[\"loss\"])\n",
    "plt.title(\"Model loss\")\n",
    "plt.ylabel(\"Loss\")\n",
    "plt.xlabel(\"Epoch\")\n",
    "ax.xaxis.set_major_locator(plt.MaxNLocator(epochs))\n",
    "plt.legend([\"Train\", \"Test\"], loc=\"upper left\")\n",
    "plt.grid()\n",
    "plt.show()"
   ]
  },
  {
   "cell_type": "markdown",
   "metadata": {},
   "source": [
    "# Evaluate model performance"
   ]
  },
  {
   "cell_type": "code",
   "execution_count": 28,
   "metadata": {},
   "outputs": [
    {
     "name": "stdout",
     "output_type": "stream",
     "text": [
      "Mean Absolute Percentage Error (MAPE): 100.0 %\n",
      "Median Absolute Percentage Error (MDAPE): 100.0 %\n"
     ]
    }
   ],
   "source": [
    "# Get the predicted values\n",
    "predictions = model.predict(x_test)\n",
    "\n",
    "# Mean Absolute Percentage Error (MAPE)\n",
    "MAPE = np.mean((np.abs(np.subtract(y_test, predictions)/ y_test))) * 100\n",
    "print('Mean Absolute Percentage Error (MAPE): ' + str(np.round(MAPE, 2)) + ' %')\n",
    "\n",
    "# Median Absolute Percentage Error (MDAPE)\n",
    "MDAPE = np.median((np.abs(np.subtract(y_test, predictions)/ y_test)) ) * 100\n",
    "print('Median Absolute Percentage Error (MDAPE): ' + str(np.round(MDAPE, 2)) + ' %')"
   ]
  },
  {
   "cell_type": "code",
   "execution_count": 22,
   "metadata": {
    "scrolled": true
   },
   "outputs": [
    {
     "ename": "NameError",
     "evalue": "name 'date_index_df' is not defined",
     "output_type": "error",
     "traceback": [
      "\u001b[1;31m---------------------------------------------------------------------------\u001b[0m",
      "\u001b[1;31mNameError\u001b[0m                                 Traceback (most recent call last)",
      "\u001b[1;32m<ipython-input-22-b16c57aa859a>\u001b[0m in \u001b[0;36m<module>\u001b[1;34m\u001b[0m\n\u001b[0;32m      8\u001b[0m \u001b[0mdata_filtered_sub\u001b[0m \u001b[1;33m=\u001b[0m \u001b[0mdata_filtered\u001b[0m\u001b[1;33m.\u001b[0m\u001b[0mcopy\u001b[0m\u001b[1;33m(\u001b[0m\u001b[1;33m)\u001b[0m\u001b[1;33m\u001b[0m\u001b[1;33m\u001b[0m\u001b[0m\n\u001b[0;32m      9\u001b[0m \u001b[1;31m# Shift the timeframe by 10 month\u001b[0m\u001b[1;33m\u001b[0m\u001b[1;33m\u001b[0m\u001b[1;33m\u001b[0m\u001b[0m\n\u001b[1;32m---> 10\u001b[1;33m \u001b[0mdate_index\u001b[0m \u001b[1;33m=\u001b[0m \u001b[0mdate_index_df\u001b[0m\u001b[1;33m[\u001b[0m\u001b[0mdate_index_df\u001b[0m\u001b[1;33m[\u001b[0m\u001b[1;34m'Date'\u001b[0m\u001b[1;33m]\u001b[0m \u001b[1;33m>\u001b[0m \u001b[0muse_start_date\u001b[0m\u001b[1;33m]\u001b[0m\u001b[1;33m.\u001b[0m\u001b[0mcopy\u001b[0m\u001b[1;33m(\u001b[0m\u001b[1;33m)\u001b[0m\u001b[1;33m\u001b[0m\u001b[1;33m\u001b[0m\u001b[0m\n\u001b[0m\u001b[0;32m     11\u001b[0m \u001b[0mdata_filtered_sub\u001b[0m\u001b[1;33m[\u001b[0m\u001b[1;34m'Date'\u001b[0m\u001b[1;33m]\u001b[0m \u001b[1;33m=\u001b[0m \u001b[0mdate_index\u001b[0m\u001b[1;33m\u001b[0m\u001b[1;33m\u001b[0m\u001b[0m\n\u001b[0;32m     12\u001b[0m \u001b[1;33m\u001b[0m\u001b[0m\n",
      "\u001b[1;31mNameError\u001b[0m: name 'date_index_df' is not defined"
     ]
    }
   ],
   "source": [
    "# Get the predicted values\n",
    "pred_unscaled = scaler_pred.inverse_transform(predictions)\n",
    "\n",
    "# The date from which on the date is displayed\n",
    "display_start_date = pd.Timestamp('today') - timedelta(days=500)\n",
    "\n",
    "# Add the date column\n",
    "data_filtered_sub = data_filtered.copy()\n",
    "# Shift the timeframe by 10 month\n",
    "date_index = date_index_df[date_index_df['Date'] > use_start_date].copy()\n",
    "data_filtered_sub['Date'] = date_index\n",
    "\n",
    "# Add the difference between the valid and predicted prices\n",
    "train = data_filtered_sub[:train_data_len + 1]\n",
    "valid = data_filtered_sub[train_data_len:]"
   ]
  },
  {
   "cell_type": "code",
   "execution_count": null,
   "metadata": {},
   "outputs": [],
   "source": [
    "valid\n",
    "pred_unscaled.size"
   ]
  },
  {
   "cell_type": "code",
   "execution_count": null,
   "metadata": {},
   "outputs": [],
   "source": [
    "valid.insert(1, \"Prediction\", pred_unscaled.ravel(), True)\n",
    "valid.insert(1, \"Difference\", valid[\"Prediction\"] - valid[\"Close\"], True)\n",
    "\n",
    "# Zoom in to a closer timeframe\n",
    "\n",
    "valid = valid[valid['Date'] > display_start_date]\n",
    "train = train[train['Date'] > display_start_date]\n",
    "\n",
    "# Visualize the data\n",
    "fig, ax1 = plt.subplots(figsize=(22, 10), sharex=True)\n",
    "xt = train['Date']; yt = train[[\"Close\"]]\n",
    "xv = valid['Date']; yv = valid[[\"Close\", \"Prediction\"]]\n",
    "plt.title(\"Predictions vs Actual Values\", fontsize=20)\n",
    "plt.ylabel(stockname, fontsize=18)\n",
    "plt.plot(xt, yt, color=\"#039dfc\", linewidth=2.0)\n",
    "plt.plot(xv, yv[\"Prediction\"], color=\"#E91D9E\", linewidth=2.0)\n",
    "plt.plot(xv, yv[\"Close\"], color=\"black\", linewidth=2.0)\n",
    "plt.legend([\"Train\", \"Test Predictions\", \"Actual Values\"], loc=\"upper left\")\n",
    "\n",
    "# # Create the bar plot with the differences\n",
    "x = valid['Date']\n",
    "y = valid[\"Difference\"]\n",
    "\n",
    "# Create custom color range for positive and negative differences\n",
    "valid.loc[y >= 0, 'diff_color'] = \"#2BC97A\"\n",
    "valid.loc[y < 0, 'diff_color'] = \"#C92B2B\"\n",
    "\n",
    "plt.bar(x, y, width=0.8, color=valid['diff_color'])\n",
    "plt.grid()\n",
    "plt.show()"
   ]
  },
  {
   "cell_type": "markdown",
   "metadata": {},
   "source": [
    "# Predict next day's price"
   ]
  },
  {
   "cell_type": "code",
   "execution_count": null,
   "metadata": {
    "scrolled": true
   },
   "outputs": [],
   "source": [
    "# Get fresh data until today and create a new dataframe with only the price data\n",
    "date_start = pd.Timestamp('today') - timedelta(days=200)\n",
    "new_df = webreader.DataReader(symbol, data_source='yahoo', start=date_start, end=date_today)\n",
    "d = pd.to_datetime(new_df.index)\n",
    "new_df['Month'] = d.strftime(\"%m\") \n",
    "new_df['Year'] = d.strftime(\"%Y\") \n",
    "new_df = new_df.filter(FEATURES)\n",
    "\n",
    "# Get the last 100 day closing price values and scale the data to be values between 0 and 1\n",
    "last_100_days = new_df[-100:].values\n",
    "last_100_days_scaled = scaler.transform(last_100_days)\n",
    "\n",
    "# Create an empty list and Append past 100 days\n",
    "X_test_new = []\n",
    "X_test_new.append(last_100_days_scaled)\n",
    "\n",
    "# Convert the X_test data set to a numpy array and reshape the data\n",
    "pred_price_scaled = model.predict(np.array(X_test_new))\n",
    "pred_price_unscaled = scaler_pred.inverse_transform(pred_price_scaled)\n",
    "\n",
    "# Print last price and predicted price for the next day\n",
    "price_today = round(new_df['Close'][-1], 2)\n",
    "predicted_price = round(pred_price_unscaled.ravel()[0], 2)\n",
    "percent = round(100 - (predicted_price * 100)/price_today, 2)\n",
    "\n",
    "a = '+'\n",
    "if percent > 0:\n",
    "    a = '-'\n",
    "\n",
    "print('The close price for ' + stockname + ' at ' + str(today) + ' was: ' + str(price_today_str))\n",
    "print('The predicted close price is: ' + str(pred_price_unscaled_str) + ' (' + a + str(percent) + '%)')"
   ]
  }
 ],
 "metadata": {
  "kernelspec": {
   "display_name": "Python 3",
   "language": "python",
   "name": "python3"
  },
  "language_info": {
   "codemirror_mode": {
    "name": "ipython",
    "version": 3
   },
   "file_extension": ".py",
   "mimetype": "text/x-python",
   "name": "python",
   "nbconvert_exporter": "python",
   "pygments_lexer": "ipython3",
   "version": "3.7.4"
  }
 },
 "nbformat": 4,
 "nbformat_minor": 4
}
