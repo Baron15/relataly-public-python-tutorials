{
 "cells": [
  {
   "cell_type": "markdown",
   "metadata": {},
   "source": [
    "# Load the Data"
   ]
  },
  {
   "cell_type": "code",
   "execution_count": 38,
   "metadata": {},
   "outputs": [
    {
     "data": {
      "text/html": [
       "<div>\n",
       "<style scoped>\n",
       "    .dataframe tbody tr th:only-of-type {\n",
       "        vertical-align: middle;\n",
       "    }\n",
       "\n",
       "    .dataframe tbody tr th {\n",
       "        vertical-align: top;\n",
       "    }\n",
       "\n",
       "    .dataframe thead th {\n",
       "        text-align: right;\n",
       "    }\n",
       "</style>\n",
       "<table border=\"1\" class=\"dataframe\">\n",
       "  <thead>\n",
       "    <tr style=\"text-align: right;\">\n",
       "      <th></th>\n",
       "      <th>Churn</th>\n",
       "      <th>AccountWeeks</th>\n",
       "      <th>ContractRenewal</th>\n",
       "      <th>DataPlan</th>\n",
       "      <th>DataUsage</th>\n",
       "      <th>CustServCalls</th>\n",
       "      <th>DayMins</th>\n",
       "      <th>DayCalls</th>\n",
       "      <th>MonthlyCharge</th>\n",
       "      <th>OverageFee</th>\n",
       "      <th>RoamMins</th>\n",
       "    </tr>\n",
       "  </thead>\n",
       "  <tbody>\n",
       "    <tr>\n",
       "      <td>0</td>\n",
       "      <td>0</td>\n",
       "      <td>128</td>\n",
       "      <td>1</td>\n",
       "      <td>1</td>\n",
       "      <td>2.7</td>\n",
       "      <td>1</td>\n",
       "      <td>265.1</td>\n",
       "      <td>110</td>\n",
       "      <td>89.0</td>\n",
       "      <td>9.87</td>\n",
       "      <td>10.0</td>\n",
       "    </tr>\n",
       "    <tr>\n",
       "      <td>1</td>\n",
       "      <td>0</td>\n",
       "      <td>107</td>\n",
       "      <td>1</td>\n",
       "      <td>1</td>\n",
       "      <td>3.7</td>\n",
       "      <td>1</td>\n",
       "      <td>161.6</td>\n",
       "      <td>123</td>\n",
       "      <td>82.0</td>\n",
       "      <td>9.78</td>\n",
       "      <td>13.7</td>\n",
       "    </tr>\n",
       "    <tr>\n",
       "      <td>2</td>\n",
       "      <td>0</td>\n",
       "      <td>137</td>\n",
       "      <td>1</td>\n",
       "      <td>0</td>\n",
       "      <td>0.0</td>\n",
       "      <td>0</td>\n",
       "      <td>243.4</td>\n",
       "      <td>114</td>\n",
       "      <td>52.0</td>\n",
       "      <td>6.06</td>\n",
       "      <td>12.2</td>\n",
       "    </tr>\n",
       "    <tr>\n",
       "      <td>3</td>\n",
       "      <td>0</td>\n",
       "      <td>84</td>\n",
       "      <td>0</td>\n",
       "      <td>0</td>\n",
       "      <td>0.0</td>\n",
       "      <td>2</td>\n",
       "      <td>299.4</td>\n",
       "      <td>71</td>\n",
       "      <td>57.0</td>\n",
       "      <td>3.10</td>\n",
       "      <td>6.6</td>\n",
       "    </tr>\n",
       "    <tr>\n",
       "      <td>4</td>\n",
       "      <td>0</td>\n",
       "      <td>75</td>\n",
       "      <td>0</td>\n",
       "      <td>0</td>\n",
       "      <td>0.0</td>\n",
       "      <td>3</td>\n",
       "      <td>166.7</td>\n",
       "      <td>113</td>\n",
       "      <td>41.0</td>\n",
       "      <td>7.42</td>\n",
       "      <td>10.1</td>\n",
       "    </tr>\n",
       "  </tbody>\n",
       "</table>\n",
       "</div>"
      ],
      "text/plain": [
       "   Churn  AccountWeeks  ContractRenewal  DataPlan  DataUsage  CustServCalls  \\\n",
       "0      0           128                1         1        2.7              1   \n",
       "1      0           107                1         1        3.7              1   \n",
       "2      0           137                1         0        0.0              0   \n",
       "3      0            84                0         0        0.0              2   \n",
       "4      0            75                0         0        0.0              3   \n",
       "\n",
       "   DayMins  DayCalls  MonthlyCharge  OverageFee  RoamMins  \n",
       "0    265.1       110           89.0        9.87      10.0  \n",
       "1    161.6       123           82.0        9.78      13.7  \n",
       "2    243.4       114           52.0        6.06      12.2  \n",
       "3    299.4        71           57.0        3.10       6.6  \n",
       "4    166.7       113           41.0        7.42      10.1  "
      ]
     },
     "execution_count": 38,
     "metadata": {},
     "output_type": "execute_result"
    }
   ],
   "source": [
    "import math \n",
    "import numpy as np \n",
    "import pandas as pd \n",
    "import matplotlib.pyplot as plt \n",
    "from sklearn.metrics import confusion_matrix\n",
    "from sklearn.ensemble import RandomForestClassifier\n",
    "import seaborn as sns\n",
    "from pandas.plotting import register_matplotlib_converters\n",
    "from sklearn.model_selection import train_test_split\n",
    "from sklearn.inspection import permutation_importance\n",
    "from sklearn.metrics import classification_report\n",
    "import scikitplot as skplt\n",
    "from sklearn.model_selection import GridSearchCV\n",
    "\n",
    "# set file path\n",
    "filepath = \"data/Churn-prediction/\"\n",
    "\n",
    "# Load train and test datasets\n",
    "train_df = pd.read_csv(filepath + 'telecom_churn.csv')\n",
    "train_df.head()"
   ]
  },
  {
   "cell_type": "code",
   "execution_count": 9,
   "metadata": {},
   "outputs": [
    {
     "name": "stdout",
     "output_type": "stream",
     "text": [
      "   AccountWeeks  ContractRenewal  DataPlan  DataUsage  CustServCalls  \\\n",
      "0           128                1         1        2.7              1   \n",
      "1           107                1         1        3.7              1   \n",
      "2           137                1         0        0.0              0   \n",
      "3            84                0         0        0.0              2   \n",
      "4            75                0         0        0.0              3   \n",
      "\n",
      "   DayCalls  MonthlyCharge  OverageFee  RoamMins  \n",
      "0       110           89.0        9.87      10.0  \n",
      "1       123           82.0        9.78      13.7  \n",
      "2       114           52.0        6.06      12.2  \n",
      "3        71           57.0        3.10       6.6  \n",
      "4       113           41.0        7.42      10.1  \n",
      "0    0\n",
      "1    0\n",
      "2    0\n",
      "3    0\n",
      "4    0\n",
      "Name: Churn, dtype: int64\n"
     ]
    }
   ],
   "source": [
    "x_df = train_df[train_df.columns[train_df.columns.isin(['AccountWeeks', 'ContractRenewal', 'DataPlan','DataUsage', 'CustServCalls', 'DayCalls', 'MonthlyCharge', 'OverageFee', 'RoamMins'])]].copy()\n",
    "y_df = train_df['Churn'].copy()\n",
    "print(x_df.head())\n",
    "print(y_df.head())"
   ]
  },
  {
   "cell_type": "markdown",
   "metadata": {},
   "source": [
    "# Create Histograms"
   ]
  },
  {
   "cell_type": "code",
   "execution_count": 15,
   "metadata": {},
   "outputs": [
    {
     "data": {
      "image/png": "[encoded data removed]",
      "text/plain": [
       "<Figure size 1152x720 with 9 Axes>"
      ]
     },
     "metadata": {
      "needs_background": "light"
     },
     "output_type": "display_data"
    }
   ],
   "source": [
    "# Create histograms for feature columns\n",
    "register_matplotlib_converters()\n",
    "nrows = 3; ncols = int(round(x_df.shape[1] / nrows, 0))\n",
    "fig, ax = plt.subplots(nrows=nrows, ncols=ncols, sharex=False, figsize=(16, 10))\n",
    "fig.subplots_adjust(hspace=0.3, wspace=0.3)\n",
    "columns = x_df.columns\n",
    "f = 0\n",
    "features = []\n",
    "for i in range(nrows):\n",
    "    for j in range(ncols):\n",
    "        if f <= x_df.shape[1]-1:\n",
    "            assetname = columns[f]\n",
    "            y = x_df[assetname]\n",
    "            ax[i, j].hist(y, color='#039dfc', label=assetname, bins='auto')\n",
    "            f += 1\n",
    "            ax[i, j].set_title(assetname)\n",
    "            features.append(assetname)\n",
    "            ax[i, j].grid()\n",
    "\n",
    "plt.show()"
   ]
  },
  {
   "cell_type": "code",
   "execution_count": 27,
   "metadata": {},
   "outputs": [
    {
     "data": {
      "text/plain": [
       "Text(0, 0.5, 'Labels')"
      ]
     },
     "execution_count": 27,
     "metadata": {},
     "output_type": "execute_result"
    },
    {
     "data": {
      "image/png": "[encoded data removed]",
      "text/plain": [
       "<Figure size 432x288 with 1 Axes>"
      ]
     },
     "metadata": {
      "needs_background": "light"
     },
     "output_type": "display_data"
    }
   ],
   "source": [
    "# Print Prediction Label\n",
    "ax = y_df.value_counts(sort=False).plot(kind='barh', color='#EE4747')\n",
    "ax.set_xlabel('Count')\n",
    "ax.set_ylabel('Labels')"
   ]
  },
  {
   "cell_type": "markdown",
   "metadata": {},
   "source": [
    "# Train a Decision Forest"
   ]
  },
  {
   "cell_type": "code",
   "execution_count": 39,
   "metadata": {},
   "outputs": [
    {
     "name": "stdout",
     "output_type": "stream",
     "text": [
      "Best: [0.85426565 0.85297994 0.8534082  0.92756615 0.93056401 0.92541931\n",
      " 0.92327522 0.92456094 0.92627584], using {'max_depth': 8, 'n_estimators': 128}\n"
     ]
    },
    {
     "data": {
      "text/html": [
       "<div>\n",
       "<style scoped>\n",
       "    .dataframe tbody tr th:only-of-type {\n",
       "        vertical-align: middle;\n",
       "    }\n",
       "\n",
       "    .dataframe tbody tr th {\n",
       "        vertical-align: top;\n",
       "    }\n",
       "\n",
       "    .dataframe thead th {\n",
       "        text-align: right;\n",
       "    }\n",
       "</style>\n",
       "<table border=\"1\" class=\"dataframe\">\n",
       "  <thead>\n",
       "    <tr style=\"text-align: right;\">\n",
       "      <th></th>\n",
       "      <th>mean_fit_time</th>\n",
       "      <th>std_fit_time</th>\n",
       "      <th>mean_score_time</th>\n",
       "      <th>std_score_time</th>\n",
       "      <th>param_max_depth</th>\n",
       "      <th>param_n_estimators</th>\n",
       "      <th>params</th>\n",
       "      <th>split0_test_score</th>\n",
       "      <th>split1_test_score</th>\n",
       "      <th>split2_test_score</th>\n",
       "      <th>split3_test_score</th>\n",
       "      <th>split4_test_score</th>\n",
       "      <th>mean_test_score</th>\n",
       "      <th>std_test_score</th>\n",
       "      <th>rank_test_score</th>\n",
       "    </tr>\n",
       "  </thead>\n",
       "  <tbody>\n",
       "    <tr>\n",
       "      <td>0</td>\n",
       "      <td>0.057904</td>\n",
       "      <td>0.004302</td>\n",
       "      <td>0.005748</td>\n",
       "      <td>0.000384</td>\n",
       "      <td>2</td>\n",
       "      <td>64</td>\n",
       "      <td>{'max_depth': 2, 'n_estimators': 64}</td>\n",
       "      <td>0.854390</td>\n",
       "      <td>0.854390</td>\n",
       "      <td>0.852248</td>\n",
       "      <td>0.851931</td>\n",
       "      <td>0.858369</td>\n",
       "      <td>0.854266</td>\n",
       "      <td>0.002297</td>\n",
       "      <td>7</td>\n",
       "    </tr>\n",
       "    <tr>\n",
       "      <td>1</td>\n",
       "      <td>0.120259</td>\n",
       "      <td>0.004130</td>\n",
       "      <td>0.010470</td>\n",
       "      <td>0.000489</td>\n",
       "      <td>2</td>\n",
       "      <td>128</td>\n",
       "      <td>{'max_depth': 2, 'n_estimators': 128}</td>\n",
       "      <td>0.852248</td>\n",
       "      <td>0.852248</td>\n",
       "      <td>0.852248</td>\n",
       "      <td>0.854077</td>\n",
       "      <td>0.854077</td>\n",
       "      <td>0.852980</td>\n",
       "      <td>0.000896</td>\n",
       "      <td>9</td>\n",
       "    </tr>\n",
       "    <tr>\n",
       "      <td>2</td>\n",
       "      <td>0.233146</td>\n",
       "      <td>0.013313</td>\n",
       "      <td>0.018010</td>\n",
       "      <td>0.001304</td>\n",
       "      <td>2</td>\n",
       "      <td>256</td>\n",
       "      <td>{'max_depth': 2, 'n_estimators': 256}</td>\n",
       "      <td>0.854390</td>\n",
       "      <td>0.852248</td>\n",
       "      <td>0.852248</td>\n",
       "      <td>0.854077</td>\n",
       "      <td>0.854077</td>\n",
       "      <td>0.853408</td>\n",
       "      <td>0.000954</td>\n",
       "      <td>8</td>\n",
       "    </tr>\n",
       "    <tr>\n",
       "      <td>3</td>\n",
       "      <td>0.103428</td>\n",
       "      <td>0.001434</td>\n",
       "      <td>0.006691</td>\n",
       "      <td>0.000324</td>\n",
       "      <td>8</td>\n",
       "      <td>64</td>\n",
       "      <td>{'max_depth': 8, 'n_estimators': 64}</td>\n",
       "      <td>0.937901</td>\n",
       "      <td>0.916488</td>\n",
       "      <td>0.916488</td>\n",
       "      <td>0.929185</td>\n",
       "      <td>0.937768</td>\n",
       "      <td>0.927566</td>\n",
       "      <td>0.009581</td>\n",
       "      <td>2</td>\n",
       "    </tr>\n",
       "    <tr>\n",
       "      <td>4</td>\n",
       "      <td>0.201797</td>\n",
       "      <td>0.011498</td>\n",
       "      <td>0.011860</td>\n",
       "      <td>0.001105</td>\n",
       "      <td>8</td>\n",
       "      <td>128</td>\n",
       "      <td>{'max_depth': 8, 'n_estimators': 128}</td>\n",
       "      <td>0.942184</td>\n",
       "      <td>0.927195</td>\n",
       "      <td>0.916488</td>\n",
       "      <td>0.931330</td>\n",
       "      <td>0.935622</td>\n",
       "      <td>0.930564</td>\n",
       "      <td>0.008610</td>\n",
       "      <td>1</td>\n",
       "    </tr>\n",
       "    <tr>\n",
       "      <td>5</td>\n",
       "      <td>0.406335</td>\n",
       "      <td>0.030356</td>\n",
       "      <td>0.022177</td>\n",
       "      <td>0.001449</td>\n",
       "      <td>8</td>\n",
       "      <td>256</td>\n",
       "      <td>{'max_depth': 8, 'n_estimators': 256}</td>\n",
       "      <td>0.937901</td>\n",
       "      <td>0.920771</td>\n",
       "      <td>0.914347</td>\n",
       "      <td>0.918455</td>\n",
       "      <td>0.935622</td>\n",
       "      <td>0.925419</td>\n",
       "      <td>0.009514</td>\n",
       "      <td>4</td>\n",
       "    </tr>\n",
       "    <tr>\n",
       "      <td>6</td>\n",
       "      <td>0.116616</td>\n",
       "      <td>0.001704</td>\n",
       "      <td>0.007010</td>\n",
       "      <td>0.000038</td>\n",
       "      <td>16</td>\n",
       "      <td>64</td>\n",
       "      <td>{'max_depth': 16, 'n_estimators': 64}</td>\n",
       "      <td>0.937901</td>\n",
       "      <td>0.914347</td>\n",
       "      <td>0.916488</td>\n",
       "      <td>0.914163</td>\n",
       "      <td>0.933476</td>\n",
       "      <td>0.923275</td>\n",
       "      <td>0.010265</td>\n",
       "      <td>6</td>\n",
       "    </tr>\n",
       "    <tr>\n",
       "      <td>7</td>\n",
       "      <td>0.235207</td>\n",
       "      <td>0.012506</td>\n",
       "      <td>0.012583</td>\n",
       "      <td>0.000480</td>\n",
       "      <td>16</td>\n",
       "      <td>128</td>\n",
       "      <td>{'max_depth': 16, 'n_estimators': 128}</td>\n",
       "      <td>0.940043</td>\n",
       "      <td>0.920771</td>\n",
       "      <td>0.912206</td>\n",
       "      <td>0.922747</td>\n",
       "      <td>0.927039</td>\n",
       "      <td>0.924561</td>\n",
       "      <td>0.009123</td>\n",
       "      <td>5</td>\n",
       "    </tr>\n",
       "    <tr>\n",
       "      <td>8</td>\n",
       "      <td>0.470332</td>\n",
       "      <td>0.007478</td>\n",
       "      <td>0.024599</td>\n",
       "      <td>0.001836</td>\n",
       "      <td>16</td>\n",
       "      <td>256</td>\n",
       "      <td>{'max_depth': 16, 'n_estimators': 256}</td>\n",
       "      <td>0.935760</td>\n",
       "      <td>0.922912</td>\n",
       "      <td>0.918630</td>\n",
       "      <td>0.922747</td>\n",
       "      <td>0.931330</td>\n",
       "      <td>0.926276</td>\n",
       "      <td>0.006289</td>\n",
       "      <td>3</td>\n",
       "    </tr>\n",
       "  </tbody>\n",
       "</table>\n",
       "</div>"
      ],
      "text/plain": [
       "   mean_fit_time  std_fit_time  mean_score_time  std_score_time  \\\n",
       "0       0.057904      0.004302         0.005748        0.000384   \n",
       "1       0.120259      0.004130         0.010470        0.000489   \n",
       "2       0.233146      0.013313         0.018010        0.001304   \n",
       "3       0.103428      0.001434         0.006691        0.000324   \n",
       "4       0.201797      0.011498         0.011860        0.001105   \n",
       "5       0.406335      0.030356         0.022177        0.001449   \n",
       "6       0.116616      0.001704         0.007010        0.000038   \n",
       "7       0.235207      0.012506         0.012583        0.000480   \n",
       "8       0.470332      0.007478         0.024599        0.001836   \n",
       "\n",
       "  param_max_depth param_n_estimators                                  params  \\\n",
       "0               2                 64    {'max_depth': 2, 'n_estimators': 64}   \n",
       "1               2                128   {'max_depth': 2, 'n_estimators': 128}   \n",
       "2               2                256   {'max_depth': 2, 'n_estimators': 256}   \n",
       "3               8                 64    {'max_depth': 8, 'n_estimators': 64}   \n",
       "4               8                128   {'max_depth': 8, 'n_estimators': 128}   \n",
       "5               8                256   {'max_depth': 8, 'n_estimators': 256}   \n",
       "6              16                 64   {'max_depth': 16, 'n_estimators': 64}   \n",
       "7              16                128  {'max_depth': 16, 'n_estimators': 128}   \n",
       "8              16                256  {'max_depth': 16, 'n_estimators': 256}   \n",
       "\n",
       "   split0_test_score  split1_test_score  split2_test_score  split3_test_score  \\\n",
       "0           0.854390           0.854390           0.852248           0.851931   \n",
       "1           0.852248           0.852248           0.852248           0.854077   \n",
       "2           0.854390           0.852248           0.852248           0.854077   \n",
       "3           0.937901           0.916488           0.916488           0.929185   \n",
       "4           0.942184           0.927195           0.916488           0.931330   \n",
       "5           0.937901           0.920771           0.914347           0.918455   \n",
       "6           0.937901           0.914347           0.916488           0.914163   \n",
       "7           0.940043           0.920771           0.912206           0.922747   \n",
       "8           0.935760           0.922912           0.918630           0.922747   \n",
       "\n",
       "   split4_test_score  mean_test_score  std_test_score  rank_test_score  \n",
       "0           0.858369         0.854266        0.002297                7  \n",
       "1           0.854077         0.852980        0.000896                9  \n",
       "2           0.854077         0.853408        0.000954                8  \n",
       "3           0.937768         0.927566        0.009581                2  \n",
       "4           0.935622         0.930564        0.008610                1  \n",
       "5           0.935622         0.925419        0.009514                4  \n",
       "6           0.933476         0.923275        0.010265                6  \n",
       "7           0.927039         0.924561        0.009123                5  \n",
       "8           0.931330         0.926276        0.006289                3  "
      ]
     },
     "execution_count": 39,
     "metadata": {},
     "output_type": "execute_result"
    }
   ],
   "source": [
    "# Split the data into x_train and y_train data sets\n",
    "x_train, x_test, y_train, y_test = train_test_split(x_df, y_df, train_size=0.7, random_state=0)\n",
    "\n",
    "# # Train a single random forest classifier - parameters are a best guess\n",
    "# clf = RandomForestClassifier(max_depth=2, random_state=0, n_estimators = 100)\n",
    "# clf.fit(x_train, y_train)\n",
    "# y_pred = clf.predict(x_test)\n",
    "\n",
    "# Define parameters\n",
    "max_depth=[2, 8, 16]\n",
    "n_estimators = [64, 128, 256]\n",
    "param_grid = dict(max_depth=max_depth, n_estimators=n_estimators)\n",
    "\n",
    "# Build the gridsearch\n",
    "dfrst = RandomForestClassifier(n_estimators=n_estimators, max_depth=max_depth)\n",
    "grid = GridSearchCV(estimator=dfrst, param_grid=param_grid, cv = 5)\n",
    "grid_results = grid.fit(x_train, y_train)\n",
    "\n",
    "# Summarize the results in a readable format\n",
    "print(\"Best: {0}, using {1}\".format(grid_results.cv_results_['mean_test_score'], grid_results.best_params_))\n",
    "results_df = pd.DataFrame(grid_results.cv_results_)\n",
    "results_df"
   ]
  },
  {
   "cell_type": "markdown",
   "metadata": {},
   "source": [
    "# Confusion Matrix"
   ]
  },
  {
   "cell_type": "code",
   "execution_count": 40,
   "metadata": {},
   "outputs": [
    {
     "ename": "NameError",
     "evalue": "name 'tick_marks' is not defined",
     "output_type": "error",
     "traceback": [
      "\u001b[1;31m---------------------------------------------------------------------------\u001b[0m",
      "\u001b[1;31mNameError\u001b[0m                                 Traceback (most recent call last)",
      "\u001b[1;32m<ipython-input-40-41cf41298ecc>\u001b[0m in \u001b[0;36m<module>\u001b[1;34m\u001b[0m\n\u001b[0;32m     21\u001b[0m \u001b[0mplt\u001b[0m\u001b[1;33m.\u001b[0m\u001b[0mtitle\u001b[0m\u001b[1;33m(\u001b[0m\u001b[1;34m'Confusion matrix'\u001b[0m\u001b[1;33m)\u001b[0m\u001b[1;33m\u001b[0m\u001b[1;33m\u001b[0m\u001b[0m\n\u001b[0;32m     22\u001b[0m \u001b[0mplt\u001b[0m\u001b[1;33m.\u001b[0m\u001b[0mylabel\u001b[0m\u001b[1;33m(\u001b[0m\u001b[1;34m'Actual label'\u001b[0m\u001b[1;33m)\u001b[0m\u001b[1;33m;\u001b[0m \u001b[0mplt\u001b[0m\u001b[1;33m.\u001b[0m\u001b[0mxlabel\u001b[0m\u001b[1;33m(\u001b[0m\u001b[1;34m'Predicted label'\u001b[0m\u001b[1;33m)\u001b[0m\u001b[1;33m\u001b[0m\u001b[1;33m\u001b[0m\u001b[0m\n\u001b[1;32m---> 23\u001b[1;33m \u001b[0mplt\u001b[0m\u001b[1;33m.\u001b[0m\u001b[0myticks\u001b[0m\u001b[1;33m(\u001b[0m\u001b[0mtick_marks\u001b[0m\u001b[1;33m,\u001b[0m \u001b[0mclass_names\u001b[0m\u001b[1;33m)\u001b[0m\u001b[1;33m;\u001b[0m \u001b[0mplt\u001b[0m\u001b[1;33m.\u001b[0m\u001b[0mxticks\u001b[0m\u001b[1;33m(\u001b[0m\u001b[0mtick_marks\u001b[0m\u001b[1;33m,\u001b[0m \u001b[0mclass_names\u001b[0m\u001b[1;33m)\u001b[0m\u001b[1;33m\u001b[0m\u001b[1;33m\u001b[0m\u001b[0m\n\u001b[0m\u001b[0;32m     24\u001b[0m \u001b[0mtick_marks\u001b[0m \u001b[1;33m=\u001b[0m \u001b[1;33m[\u001b[0m\u001b[1;36m0.5\u001b[0m\u001b[1;33m,\u001b[0m \u001b[1;36m1.5\u001b[0m\u001b[1;33m]\u001b[0m\u001b[1;33m\u001b[0m\u001b[1;33m\u001b[0m\u001b[0m\n",
      "\u001b[1;31mNameError\u001b[0m: name 'tick_marks' is not defined"
     ]
    },
    {
     "data": {
      "image/png": "[encoded data removed]",
      "text/plain": [
       "<Figure size 504x432 with 2 Axes>"
      ]
     },
     "metadata": {
      "needs_background": "light"
     },
     "output_type": "display_data"
    }
   ],
   "source": [
    "# # Create Confusion Matrix\n",
    "# target_names = ['True', 'False']\n",
    "# results_log = classification_report(y_test, y_pred, target_names=target_names, output_dict=True)\n",
    "# results_df_log = pd.DataFrame(results_log).transpose()\n",
    "# print(results_df_log)\n",
    "# skplt.metrics.plot_confusion_matrix(y_test,  y_pred, figsize=(6,6))\n",
    "\n",
    "# Extract the best decision forest \n",
    "best_clf = grid_results.best_estimator_\n",
    "y_pred = best_clf.predict(x_test)\n",
    "\n",
    "# Create a confusion matrix\n",
    "cnf_matrix = confusion_matrix(y_test, y_pred)\n",
    "\n",
    "# Create heatmap from the confusion matrix\n",
    "class_names=[False, True] \n",
    "tick_marks = [0.5, 1.5]\n",
    "class_names=[False, True] # name  of classes\n",
    "fig, ax = plt.subplots(figsize=(7, 6))\n",
    "sns.heatmap(pd.DataFrame(cnf_matrix), annot=True, cmap=\"YlGnBu\", fmt='g')\n",
    "ax.xaxis.set_label_position(\"top\")\n",
    "plt.tight_layout()\n",
    "plt.title('Confusion matrix')\n",
    "plt.ylabel('Actual label'); plt.xlabel('Predicted label')\n",
    "plt.yticks(tick_marks, class_names); plt.xticks(tick_marks, class_names)\n"
   ]
  },
  {
   "cell_type": "code",
   "execution_count": null,
   "metadata": {},
   "outputs": [],
   "source": []
  },
  {
   "cell_type": "markdown",
   "metadata": {},
   "source": [
    "# Best Model Feature Importance"
   ]
  },
  {
   "cell_type": "code",
   "execution_count": 21,
   "metadata": {
    "scrolled": true
   },
   "outputs": [
    {
     "data": {
      "text/plain": [
       "array([ 0.00000000e+00, -4.33333333e-04,  0.00000000e+00,  0.00000000e+00,\n",
       "       -3.33333333e-05,  0.00000000e+00,  1.93333333e-03,  0.00000000e+00,\n",
       "        3.33333333e-04])"
      ]
     },
     "execution_count": 21,
     "metadata": {},
     "output_type": "execute_result"
    }
   ],
   "source": [
    "r = permutation_importance(best_clf, x_test, y_test, n_repeats=30, random_state=0)\n",
    "r.importances_mean\n"
   ]
  },
  {
   "cell_type": "code",
   "execution_count": 22,
   "metadata": {},
   "outputs": [
    {
     "data": {
      "image/png": "[encoded data removed]",
      "text/plain": [
       "<Figure size 1152x360 with 1 Axes>"
      ]
     },
     "metadata": {
      "needs_background": "light"
     },
     "output_type": "display_data"
    }
   ],
   "source": [
    "\n",
    "df = pd.DataFrame(r['importances_mean'])\n",
    "df.insert(0, \"Feature Names\", features, True) \n",
    "df.rename(columns={0: \"Importance\"}, inplace = True)\n",
    "df.sort_values(by=['Importance'], ascending=True, inplace = True)\n",
    "y_ticks = np.arange(0, len(features))\n",
    "fig, ax = plt.subplots(figsize=(16, 5))\n",
    "ax.barh(y_ticks, df[\"Importance\"])\n",
    "ax.set_yticklabels(df[\"Feature Names\"])\n",
    "ax.set_yticks(y_ticks)\n",
    "ax.set_title(\"Random Forest Feature Importances\")\n",
    "fig.tight_layout()\n",
    "plt.show()"
   ]
  }
 ],
 "metadata": {
  "kernelspec": {
   "display_name": "Python 3",
   "language": "python",
   "name": "python3"
  },
  "language_info": {
   "codemirror_mode": {
    "name": "ipython",
    "version": 3
   },
   "file_extension": ".py",
   "mimetype": "text/x-python",
   "name": "python",
   "nbconvert_exporter": "python",
   "pygments_lexer": "ipython3",
   "version": "3.7.4"
  }
 },
 "nbformat": 4,
 "nbformat_minor": 2
}
