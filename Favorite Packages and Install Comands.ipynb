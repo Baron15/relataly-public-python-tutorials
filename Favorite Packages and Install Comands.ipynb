{
 "cells": [
  {
   "cell_type": "code",
   "execution_count": null,
   "metadata": {},
   "outputs": [],
   "source": [
    "# Lets start by setting up the imports. \n",
    "\n",
    "#remote data access for pandas. We use this to get the data \n",
    "import pandas_datareader as webreader\n",
    "\n",
    "#mathematical functions \n",
    "import math \n",
    "\n",
    "#fundamental package for scientific computing with Python  \n",
    "import numpy as np \n",
    "\n",
    "#additional functions for analysing and manipulating data  \n",
    "import pandas as pd \n",
    "\n",
    "#visualization - we use this to plot the market data \n",
    "import matplotlib.pyplot as plt \n",
    "\n",
    "#formatting dates\n",
    "import matplotlib.dates as mdates\n",
    "\n",
    "#Deep learning library, used for neural networks\n",
    "from keras.models import Sequential \n",
    "\n",
    "#tools for predictive data analysis. We will use the MinMaxScaler to normalize the price data \n",
    "from sklearn.preprocessing import MinMaxScaler \n",
    "\n",
    "#Base class for recurrent layers\n",
    "from keras.layers import LSTM\n",
    "\n",
    "#The regular densely-connected Neural Network layer\n",
    "from keras.layers import Dense"
   ]
  }
 ],
 "metadata": {
  "kernelspec": {
   "display_name": "Python 3",
   "language": "python",
   "name": "python3"
  },
  "language_info": {
   "codemirror_mode": {
    "name": "ipython",
    "version": 3
   },
   "file_extension": ".py",
   "mimetype": "text/x-python",
   "name": "python",
   "nbconvert_exporter": "python",
   "pygments_lexer": "ipython3",
   "version": "3.7.4"
  }
 },
 "nbformat": 4,
 "nbformat_minor": 2
}
